{
  "nbformat": 4,
  "nbformat_minor": 0,
  "metadata": {
    "colab": {
      "name": "question4.ipynb",
      "provenance": [],
      "collapsed_sections": []
    },
    "kernelspec": {
      "display_name": "Python 3",
      "language": "python",
      "name": "python3"
    },
    "language_info": {
      "codemirror_mode": {
        "name": "ipython",
        "version": 3
      },
      "file_extension": ".py",
      "mimetype": "text/x-python",
      "name": "python",
      "nbconvert_exporter": "python",
      "pygments_lexer": "ipython3",
      "version": "3.8.3"
    }
  },
  "cells": [
    {
      "cell_type": "markdown",
      "metadata": {
        "id": "l-DfEle45Fh9"
      },
      "source": [
        "# Support Vector Machines\n",
        "\n",
        "In this section of the assignment, you will get to implement Support Vector Machines which are among the best (and many believe are indeed the best)“off-the-shelf” supervised learning algorithm.\n",
        "\n",
        "This section is further divided into 3 subsections.\n",
        "\n",
        "\n",
        "*   In the first subsection, you will work on a synthetic dataset and visualize the boundary predicted by SVM. You will also vary the value of C-parameter and see how the decision boundary changes. **Please note that you cannot use inbuilt sklearn function for SVM in this sub-section**. You can only use a QCQP (Quadratically Constrained Quadratic Program) solver like CVXPY. \n",
        "\n",
        "  References which you may find helpful for this subsection: \n",
        "  \n",
        "  1.   https://www.cvxpy.org/\n",
        "  2.   https://www.cvxpy.org/examples/basic/quadratic_program.html\n",
        "\n",
        "  Note that in this section you are expected to show how you derived the Quadratically Constrained form(which can be passed into the solver) from the basic principles of SVM algorithm\n",
        "*  In the next subsection you will use be using the famous MNIST dataset to explore various kernels and report the results. **Please note you may use inbuilt sklearn SVM functions in this subsection**\n"
      ]
    },
    {
      "cell_type": "code",
      "metadata": {
        "colab": {
          "base_uri": "https://localhost:8080/"
        },
        "id": "H4Ppfbqt5FiC",
        "outputId": "0c233d4e-1920-40b1-e431-07a37d5e7dd5"
      },
      "source": [
        "!pip install numpy\n",
        "!pip install matplotlib\n",
        "!pip install cvxpy\n",
        "import numpy as np\n",
        "import cvxpy as cp\n",
        "import matplotlib.pyplot as plt"
      ],
      "execution_count": null,
      "outputs": [
        {
          "output_type": "stream",
          "text": [
            "Requirement already satisfied: numpy in /usr/local/lib/python3.7/dist-packages (1.19.5)\n",
            "Requirement already satisfied: matplotlib in /usr/local/lib/python3.7/dist-packages (3.2.2)\n",
            "Requirement already satisfied: python-dateutil>=2.1 in /usr/local/lib/python3.7/dist-packages (from matplotlib) (2.8.1)\n",
            "Requirement already satisfied: pyparsing!=2.0.4,!=2.1.2,!=2.1.6,>=2.0.1 in /usr/local/lib/python3.7/dist-packages (from matplotlib) (2.4.7)\n",
            "Requirement already satisfied: cycler>=0.10 in /usr/local/lib/python3.7/dist-packages (from matplotlib) (0.10.0)\n",
            "Requirement already satisfied: kiwisolver>=1.0.1 in /usr/local/lib/python3.7/dist-packages (from matplotlib) (1.3.1)\n",
            "Requirement already satisfied: numpy>=1.11 in /usr/local/lib/python3.7/dist-packages (from matplotlib) (1.19.5)\n",
            "Requirement already satisfied: six>=1.5 in /usr/local/lib/python3.7/dist-packages (from python-dateutil>=2.1->matplotlib) (1.15.0)\n",
            "Requirement already satisfied: cvxpy in /usr/local/lib/python3.7/dist-packages (1.0.31)\n",
            "Requirement already satisfied: osqp>=0.4.1 in /usr/local/lib/python3.7/dist-packages (from cvxpy) (0.6.2.post0)\n",
            "Requirement already satisfied: scipy>=1.1.0 in /usr/local/lib/python3.7/dist-packages (from cvxpy) (1.4.1)\n",
            "Requirement already satisfied: scs>=1.1.3 in /usr/local/lib/python3.7/dist-packages (from cvxpy) (2.1.2)\n",
            "Requirement already satisfied: multiprocess in /usr/local/lib/python3.7/dist-packages (from cvxpy) (0.70.11.1)\n",
            "Requirement already satisfied: ecos>=2 in /usr/local/lib/python3.7/dist-packages (from cvxpy) (2.0.7.post1)\n",
            "Requirement already satisfied: numpy>=1.15 in /usr/local/lib/python3.7/dist-packages (from cvxpy) (1.19.5)\n",
            "Requirement already satisfied: qdldl in /usr/local/lib/python3.7/dist-packages (from osqp>=0.4.1->cvxpy) (0.1.5.post0)\n",
            "Requirement already satisfied: dill>=0.3.3 in /usr/local/lib/python3.7/dist-packages (from multiprocess->cvxpy) (0.3.3)\n"
          ],
          "name": "stdout"
        }
      ]
    },
    {
      "cell_type": "markdown",
      "metadata": {
        "id": "KzGrh26-5FiD"
      },
      "source": [
        "### Subsection 1"
      ]
    },
    {
      "cell_type": "code",
      "metadata": {
        "id": "BHnTzywR5FiD"
      },
      "source": [
        "# Feel free to use this helper function to visualize 2D points X with labels +1 or -1\n",
        "def plot_points(X, Y):\n",
        "    reds = []\n",
        "    blues = []\n",
        "    for i in range(Y.shape[0]):\n",
        "        if Y[i] == 1:\n",
        "            reds.append(X[i])\n",
        "        else:\n",
        "            blues.append(X[i])\n",
        "    reds = np.array(reds)\n",
        "    blues = np.array(blues)\n",
        "    plt.scatter(reds[:, 0], reds[:, 1], c = 'r')\n",
        "    plt.scatter(blues[:, 0], blues[:, 1], c = 'b')"
      ],
      "execution_count": null,
      "outputs": []
    },
    {
      "cell_type": "code",
      "metadata": {
        "colab": {
          "base_uri": "https://localhost:8080/",
          "height": 264
        },
        "id": "YWNZ_bDW5FiD",
        "outputId": "dea27c5a-d3ee-4f18-eba6-9f65786594c7"
      },
      "source": [
        "# Create Synthetic Data and visualize the points\n",
        "X = np.array([[-3.5, -1], [-3, 0], [-3, 1], [-2.7, -1.3], [-2, -1], [-2, -2.7], \n",
        "              [-1, -2.5], [0, -3], [-1.1, 0], [0, 2.5], [1, 2], [0.7, 4], \n",
        "              [2.1, 0.2], [2.3, 1], [2.8, 1.8], [2.2, 2.8]])\n",
        "y = np.array([1, 1, 1, 1, 1, 1, 1, 1, -1, -1, -1, -1, -1, -1, -1, -1])\n",
        "\n",
        "plot_points(X, y)\n",
        "plt.show()"
      ],
      "execution_count": null,
      "outputs": [
        {
          "output_type": "display_data",
          "data": {
            "image/png": "[encoded data removed]",
            "text/plain": [
              "<Figure size 432x288 with 1 Axes>"
            ]
          },
          "metadata": {
            "tags": []
          }
        }
      ]
    },
    {
      "cell_type": "markdown",
      "metadata": {
        "id": "jT7XYAot5FiE"
      },
      "source": [
        "In the next cell you are required to derive the Quadratic Constrained Quadratic form of SVM **without soft constraints** from the basic principles. Start with the idea that SVM tries to maximize the margin and then derive the form which you can feed to the solver.\n",
        "\n",
        "Please print the values of w, b. \n",
        "\n",
        "**Note: You are also required to upload a page of the derivation. You may also type it in markdown here**\n",
        "\n",
        "**Note: You cannot use sklearn SVM functions here**"
      ]
    },
    {
      "cell_type": "markdown",
      "metadata": {
        "id": "BZN2SJvq1XoU"
      },
      "source": [
        "![derivation_proof.jpeg](data:image/jpeg;base64,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)\r\n",
        "\r\n",
        "## Derivation:\r\n",
        "\r\n",
        "\r\n",
        "1.   SVM assumes the data to be linearly seperable.\r\n",
        "2.   There may be several number of hyper planes that seperate tha data.\r\n",
        "3.   But we assumes the misclassification to be minimum\r\n",
        "4.   Let the equation of the hyper plane be w.T*X+b=0\r\n",
        "5.   w is the normal to the hyper plane\r\n",
        "6.   Main objective is $argmax_{W,b}$ $Y_i$(W.T*$X_i + b$)$\\geq$1 $\\forall i$ \r\n",
        "7.   Support vector considers two hyper planes $\\pi^{-}:W.T*X+b^{-}=0$ and $\\pi^{+}:W.T*X+b^{+}=0$ and tries to maximise the `margin` (distance) between them while keeping the miscalssification error minimum.\r\n",
        "8.   Let us consider two points $X_{-}\\;\\; and\\;\\; X_{+}$  such that  $\\pi^{-}:W.T*X_{-}+b^{-}=0$ and $\\pi^{+}:W.T*X_{+}+b^{+}=0$. These points are called support vectors.\r\n",
        "9.   Now we substitute those points in out original hyperplane `(decision boundary)` we will get some distance $ k \\; \\; and \\;\\; k^{'} \\; i.e \\; W.T*X_{+}+b=k\\;\\; and \\;\\;  W.T*X_{-}+b=\\;k^{'}\\;. Subtract\\; the\\; two\\; equations\\;\\;. We \\;will\\; get\\; (X_{+}-X_{-})=(k-k^{'})/||W||. usually\\; k^{'}=-k\\; and \\; k=k. To\\; avoid\\; confusion \\;people\\; take \\;them\\; as \\;1,-1. So, \\;the\\; problem\\; is\\; now \\;reduced\\; to \\;`maximising \\;the \\;margin`$.\r\n",
        "10.  Objective functions $\\;argmax_{W,b}\\; 2/||W||\\; or\\; 2K//||W||$.\r\n",
        "11. There are two formulation (i)we can keep the `||W|| = 1 and maximise the margin.`\r\n",
        "12. (ii) Another option is minimise the `||W|| i.e is 1/2*W.T*W` by keeping the `h(X)=W.T*X+b>=1`. \r\n",
        "13. We will use the second formulation since that can be solved by many QCQP solvers subjected to some constraints\r\n",
        "\r\n",
        "$$ Thus\\; our \\;final\\; formulation \\; is Minimize\\; ||W||/2 \\; subject \\; to\\; \\;y_i*(W.T*X_i+b)\\geq1 \\; \\forall i. \\;This\\; is \\; a \\; hard\\; margin\\; classification $$\r\n",
        "\r\n",
        "14. Soft margin classification allows some margin of error that is it allows few of the points to lie on the opposite side of the suport vectors. To achieve this we add slack variable $\\zeta$ \r\n",
        "$$ The\\;\\; new \\;\\; constaints\\;\\; are \\;y_i*(W.T*X_i+b)\\geq1 - \\zeta_i\\;\\;\\; ; \\; \\zeta_i\\geq 0\\;\\; \\forall i $$ \r\n",
        "\r\n",
        "\r\n"
      ]
    },
    {
      "cell_type": "code",
      "metadata": {
        "id": "z5aHlHg45FiE"
      },
      "source": [
        "# Write your code here\r\n",
        "class SVM:\r\n",
        "\r\n",
        "  def __init__(self,mode=\"hard\",c=None):\r\n",
        "    self.mode=mode\r\n",
        "    self.c=c if c is not None else None\r\n",
        "    self.dim=0\r\n",
        "    self.no_samples=0\r\n",
        "    self.theta=[]\r\n",
        "    self.bias=0.0\r\n",
        "  \r\n",
        "\r\n",
        "  def _initialise_(self,shape):\r\n",
        "    self.theta=cp.Variable((shape,1))\r\n",
        "    self.bias=cp.Variable()   # just some scalar variable \r\n",
        "\r\n",
        "  def fit(self,X,y):   # fit using the Quadratic constrained Quadratic from and cvxpy solvers\r\n",
        "    self.dim=X.ndim\r\n",
        "    self.no_samples=X.shape[0]\r\n",
        "\r\n",
        "    ## constructing the solver \r\n",
        "\r\n",
        "    if self.mode==\"hard\":  \r\n",
        "\r\n",
        "      self._initialise_(X.shape[1])\r\n",
        "      a=self.theta\r\n",
        "      b=self.bias\r\n",
        "      constraints= [y[i]*(a.T@X[i]+b)>=1 for i in range(self.no_samples)]\r\n",
        "\r\n",
        "      obj=cp.Minimize((cp.norm(a,2)**2)/2)\r\n",
        "\r\n",
        "      \r\n",
        "\r\n",
        "      \r\n",
        "      prob=cp.Problem(obj,constraints)\r\n",
        "\r\n",
        "      prob.solve()\r\n",
        "      print(\"Problem Status: %s\"%prob.status)\r\n",
        "\r\n",
        "      self.theta = a.value\r\n",
        "      self.bias = b.value\r\n",
        "\r\n",
        "      print(self.theta)\r\n",
        "      print(self.bias)\r\n",
        "\r\n",
        "    if self.mode==\"soft\":\r\n",
        "      \r\n",
        "      print(X.shape[1])\r\n",
        "      self._initialise_(X.shape[1])\r\n",
        "      a=cp.Variable((X.shape[1],1))\r\n",
        "      b=cp.Variable()\r\n",
        "\r\n",
        "      n=self.no_samples\r\n",
        "      si=cp.Variable(n)\r\n",
        "      penalty=self.c\r\n",
        "\r\n",
        "      \r\n",
        "      constraint1= [y[i]*(a.T*X[i]+b)>=1-si[i] for i in range(self.no_samples)]\r\n",
        "    \r\n",
        "      constraint2=[si[i]>=0 for i in range(n)]\r\n",
        "      \r\n",
        "      #constraints=constraint1+constraint3+constraint2\r\n",
        "      constraints=constraint1+constraint2\r\n",
        "\r\n",
        "      obj2=cp.Minimize((cp.norm(a,2)**2/2+penalty*cp.sum(si)))\r\n",
        "\r\n",
        "      prob1=cp.Problem(obj2,constraints)\r\n",
        "\r\n",
        "      prob1.solve()\r\n",
        "      print(\"Problem Status: %s\"%prob1.status)\r\n",
        "\r\n",
        "      self.theta = a.value\r\n",
        "      self.bias = b.value\r\n",
        "\r\n",
        "      print(self.theta)\r\n",
        "      print(self.bias)\r\n",
        "\r\n"
      ],
      "execution_count": null,
      "outputs": []
    },
    {
      "cell_type": "code",
      "metadata": {
        "colab": {
          "base_uri": "https://localhost:8080/"
        },
        "id": "BhfIxnpKmHee",
        "outputId": "403522f6-6fe4-44c5-aa77-50ec0e656780"
      },
      "source": [
        "\r\n",
        "#svm=SVM(mode=\"soft\",c=0.01)\r\n",
        "svm=SVM()\r\n",
        "svm.fit(X,y)\r\n"
      ],
      "execution_count": null,
      "outputs": [
        {
          "output_type": "stream",
          "text": [
            "\n",
            "ECOS 2.0.7 - (C) embotech GmbH, Zurich Switzerland, 2012-15. Web: www.embotech.com/ECOS\n",
            "\n",
            "It     pcost       dcost      gap   pres   dres    k/t    mu     step   sigma     IR    |   BT\n",
            " 0  +0.000e+00  +1.119e+01  +4e+01  7e-01  2e+00  1e+00  2e+00    ---    ---    1  1  - |  -  - \n",
            " 1  +7.762e+00  +2.454e+01  +7e+00  7e-01  4e+00  5e+00  4e-01  0.8634  7e-02   1  1  1 |  0  0\n",
            " 2  +3.483e+00  +6.583e+00  +3e+00  2e-01  1e+00  3e-01  1e-01  0.6528  2e-02   1  1  1 |  0  0\n",
            " 3  +1.646e+00  +2.540e+00  +1e+00  4e-02  1e-01  3e-01  7e-02  0.7203  2e-01   2  1  1 |  0  0\n",
            " 4  +2.215e+00  +2.373e+00  +2e-01  6e-03  2e-02  6e-02  1e-02  0.9247  8e-02   2  1  1 |  0  0\n",
            " 5  +2.328e+00  +2.370e+00  +5e-02  2e-03  6e-03  2e-02  3e-03  0.8507  1e-01   2  1  2 |  0  0\n",
            " 6  +2.361e+00  +2.363e+00  +2e-03  8e-05  3e-04  6e-04  1e-04  0.9572  1e-04   2  1  1 |  0  0\n",
            " 7  +2.363e+00  +2.363e+00  +2e-04  6e-06  2e-05  4e-05  9e-06  0.9890  7e-02   2  1  1 |  0  0\n",
            " 8  +2.363e+00  +2.363e+00  +5e-06  2e-07  6e-07  1e-06  3e-07  0.9700  1e-04   2  1  1 |  0  0\n",
            " 9  +2.363e+00  +2.363e+00  +4e-07  1e-08  5e-08  9e-08  2e-08  0.9347  8e-03   1  1  1 |  0  0\n",
            "10  +2.363e+00  +2.363e+00  +7e-09  3e-10  9e-10  2e-09  4e-10  0.9832  1e-03   2  1  1 |  0  0\n",
            "\n",
            "OPTIMAL (within feastol=8.6e-10, reltol=2.8e-09, abstol=6.7e-09).\n",
            "Runtime: 0.001378 seconds.\n",
            "\n",
            "Problem Status: optimal\n",
            "[[-1.73913043]\n",
            " [-1.30434783]]\n",
            "-2.9130434780347696\n"
          ],
          "name": "stdout"
        }
      ]
    },
    {
      "cell_type": "markdown",
      "metadata": {
        "id": "Avxc9dGx5FiE"
      },
      "source": [
        "In the next cell you are required to visualize the boundary predicted by the solver. You may want to revise up on how to plot the a line given w, b. Please plot w vector as well as the margin lines\n",
        "\n",
        "You may want to create a function to plot the line of separation as you would require this frequently in the subsequent parts of the assignment."
      ]
    },
    {
      "cell_type": "code",
      "metadata": {
        "id": "-UCL59fy5FiF"
      },
      "source": [
        "# Write your code here\r\n",
        "\r\n",
        "def f(x, w, b, c=0):  \r\n",
        "  \"\"\" Y value equation reference:https://scikit-learn.org/stable/auto_examples/svm/plot_svm_margin.html\"\"\"\r\n",
        "  return (-w[0] * x - b + c) / w[1]    # returns the y value (W.T*X+b=mx+c)"
      ],
      "execution_count": null,
      "outputs": []
    },
    {
      "cell_type": "code",
      "metadata": {
        "colab": {
          "base_uri": "https://localhost:8080/",
          "height": 281
        },
        "id": "e6-iiTvavovt",
        "outputId": "41ab4d36-0f11-4f82-ec44-9316676d8eea"
      },
      "source": [
        "plt.scatter(X[:, 0], X[:, 1], c=y, cmap='winter')\r\n",
        "def func_plot(svm_):\r\n",
        "  #w.x + b = 0  \r\n",
        "  w=svm_.theta\r\n",
        "  b=svm_.bias\r\n",
        "  a0 = -5; a1 = f(a0, w, b)  \r\n",
        "  b0 = 5; b1 = f(b0, w, b)  \r\n",
        "  plt.plot([a0,b0], [a1,b1], 'k')\r\n",
        "\r\n",
        "  #w.x + b = 1\r\n",
        "  a0 = -5; a1 = f(a0, w, b,1)  \r\n",
        "  b0 = 5; b1 = f(b0, w, b,1)  \r\n",
        "  plt.plot([a0,b0], [a1,b1], 'k--')\r\n",
        "\r\n",
        "  #w.x + b = -1\r\n",
        "  a0 = -5; a1 = f(a0, w, b,-1)  \r\n",
        "  b0 = 5; b1 = f(b0, w, b,-1)  \r\n",
        "  plt.plot([a0,b0], [a1,b1], 'k--')\r\n",
        "\r\n",
        "  margin = 1 / np.sqrt(np.sum(w** 2))\r\n",
        "\r\n",
        "  yy_down = f(3,w,b,1)\r\n",
        "  yy_up = f(3,w,b,-1)\r\n",
        "\r\n",
        "  margin_line=[yy_down,yy_up]\r\n",
        "\r\n",
        "  V = w.tolist()\r\n",
        "  print(V)\r\n",
        "\r\n",
        "\r\n",
        " \r\n",
        "  plt.quiver(0, 0,V[0][0],V[1][0],scale=5 ) \r\n",
        "  #plt.quiver(*origin, V[:,0], V[:,1], color=['r','b'], scale=9)\r\n",
        "\r\n",
        "  plt.show()\r\n",
        "\r\n",
        "\r\n",
        "func_plot(svm)"
      ],
      "execution_count": null,
      "outputs": [
        {
          "output_type": "stream",
          "text": [
            "[[-1.7391304346957444], [-1.304347826208309]]\n"
          ],
          "name": "stdout"
        },
        {
          "output_type": "display_data",
          "data": {
            "image/png": "[encoded data removed]",
            "text/plain": [
              "<Figure size 432x288 with 1 Axes>"
            ]
          },
          "metadata": {
            "tags": []
          }
        }
      ]
    },
    {
      "cell_type": "markdown",
      "metadata": {
        "id": "f1okWV8I5FiF"
      },
      "source": [
        "In the next cell please plot only the support vectors along with the boundary, w vector, and margins. \n",
        "\n",
        "**Note: You are not supposed to hard-code the points here**"
      ]
    },
    {
      "cell_type": "code",
      "metadata": {
        "colab": {
          "base_uri": "https://localhost:8080/",
          "height": 281
        },
        "id": "Hjhg0zSZXUO_",
        "outputId": "42327dd3-2bdc-4c85-c0ab-ce02ea14c306"
      },
      "source": [
        "func_plot(svm)"
      ],
      "execution_count": null,
      "outputs": [
        {
          "output_type": "stream",
          "text": [
            "[[-1.7391304346957444], [-1.304347826208309]]\n"
          ],
          "name": "stdout"
        },
        {
          "output_type": "display_data",
          "data": {
            "image/png": "[encoded data removed]",
            "text/plain": [
              "<Figure size 432x288 with 1 Axes>"
            ]
          },
          "metadata": {
            "tags": []
          }
        }
      ]
    },
    {
      "cell_type": "markdown",
      "metadata": {
        "id": "hzeix8wX5FiF"
      },
      "source": [
        "In the next cell add the following points:\n",
        "* (-4, -10) with label 1\n",
        "* (4, 4) with label -1\n",
        "\n",
        "Is the decision boundary changed after adding the points? Explain your observations theoretically."
      ]
    },
    {
      "cell_type": "code",
      "metadata": {
        "colab": {
          "base_uri": "https://localhost:8080/",
          "height": 264
        },
        "id": "ZF5PCa_E5FiF",
        "outputId": "b06dda05-0413-4147-bc81-a3114c3dc6a1"
      },
      "source": [
        "# Re-create the Synthetic Data by adding the points and visualize the points\r\n",
        "add_points=[[-4,-10],[4,4]]\r\n",
        "add_label=[1,-1]\r\n",
        "\r\n",
        "X=np.append(X,add_points, axis=0)\r\n",
        "y=np.append(y,add_label)\r\n",
        "\r\n",
        "plot_points(X, y)\r\n",
        "plt.show()"
      ],
      "execution_count": null,
      "outputs": [
        {
          "output_type": "display_data",
          "data": {
            "image/png": "[encoded data removed]",
            "text/plain": [
              "<Figure size 432x288 with 1 Axes>"
            ]
          },
          "metadata": {
            "tags": []
          }
        }
      ]
    },
    {
      "cell_type": "code",
      "metadata": {
        "colab": {
          "base_uri": "https://localhost:8080/",
          "height": 349
        },
        "id": "wAu4U-Up5FiG",
        "outputId": "c92b703d-65c0-425d-9a5f-8b76484009e0"
      },
      "source": [
        "# Solve for the decision boundary using this modified dataset\r\n",
        "\r\n",
        "#svm=SVM(mode=\"soft\",c=0.01)\r\n",
        "svm2=SVM()\r\n",
        "svm2.fit(X,y)\r\n",
        "plt.scatter(X[:, 0], X[:, 1], c=y, cmap='winter')\r\n",
        "func_plot(svm2)"
      ],
      "execution_count": null,
      "outputs": [
        {
          "output_type": "stream",
          "text": [
            "Problem Status: optimal\n",
            "[[-1.73913043]\n",
            " [-1.30434783]]\n",
            "-2.913043478291523\n",
            "[[-1.7391304349218888], [-1.3043478265257467]]\n"
          ],
          "name": "stdout"
        },
        {
          "output_type": "display_data",
          "data": {
            "image/png": "[encoded data removed]",
            "text/plain": [
              "<Figure size 432x288 with 1 Axes>"
            ]
          },
          "metadata": {
            "tags": []
          }
        }
      ]
    },
    {
      "cell_type": "markdown",
      "metadata": {
        "id": "lA883rueOAQU"
      },
      "source": [
        "### Observation:\n",
        " Decision boundary didn't change much on the addition of the new points as they are extreme points on each side of the linearly separable data. So, they don't have any effect on the decision boundary. The decision boundary changes only when the points are nearer to the classifier plane or if they newly formed support vectors"
      ]
    },
    {
      "cell_type": "markdown",
      "metadata": {
        "id": "2LgPAzmX5FiG"
      },
      "source": [
        "In the next cell you are required to modify your framing of optimisation problem to incorporate soft constraints also known as slack. Plot the decision boundary, w and margin lines for various values of C: $0.01$, $0.1$, $3$, $10$, $100$.\n",
        "\n",
        "Explain your results theoretically. How does the boundary change with varying values of C? Why?\n",
        "\n",
        "**Note: Use the modified X and y i.e after adding points in previous cell**"
      ]
    },
    {
      "cell_type": "code",
      "metadata": {
        "colab": {
          "base_uri": "https://localhost:8080/"
        },
        "id": "-9RzYiO65FiG",
        "outputId": "8699475c-885b-430a-efef-c18fddf05b90"
      },
      "source": [
        "# Write your code here for C= 0.01\r\n",
        "\r\n",
        "\r\n",
        "svm3=SVM(mode=\"soft\",c=0.01)\r\n",
        "\r\n",
        "svm3.fit(X,y)\r\n",
        "\r\n"
      ],
      "execution_count": null,
      "outputs": [
        {
          "output_type": "stream",
          "text": [
            "2\n",
            "Problem Status: optimal\n",
            "[[-0.22506809]\n",
            " [-0.19858949]]\n",
            "0.013672204267370152\n"
          ],
          "name": "stdout"
        }
      ]
    },
    {
      "cell_type": "code",
      "metadata": {
        "colab": {
          "base_uri": "https://localhost:8080/",
          "height": 281
        },
        "id": "fDlcNipLWKxt",
        "outputId": "d58f1638-9ee1-4227-dabc-a8d80c02cc90"
      },
      "source": [
        "plt.scatter(X[:, 0], X[:, 1], c=y, cmap='winter')\r\n",
        "func_plot(svm3)"
      ],
      "execution_count": null,
      "outputs": [
        {
          "output_type": "stream",
          "text": [
            "[[-0.22506808755205798], [-0.1985894891685596]]\n"
          ],
          "name": "stdout"
        },
        {
          "output_type": "display_data",
          "data": {
            "image/png": "[encoded data removed]",
            "text/plain": [
              "<Figure size 432x288 with 1 Axes>"
            ]
          },
          "metadata": {
            "tags": []
          }
        }
      ]
    },
    {
      "cell_type": "markdown",
      "metadata": {
        "id": "cFh9US85OmWn"
      },
      "source": [
        "### Oservation:\n",
        "Since it is a soft classifier and the penalty is very less which implies it maximises the margin thus allowing some of the points to be on the other side of the support vectors and also some of the points to be misclassified"
      ]
    },
    {
      "cell_type": "code",
      "metadata": {
        "colab": {
          "base_uri": "https://localhost:8080/",
          "height": 366
        },
        "id": "qQo-heff5FiG",
        "outputId": "1be87885-f776-4343-ee42-5e4cc3aaea77"
      },
      "source": [
        "# Write your code here for C= 0.1\r\n",
        "svm4=SVM(mode=\"soft\",c=0.1)\r\n",
        "\r\n",
        "svm4.fit(X,y)\r\n",
        "\r\n",
        "plt.scatter(X[:, 0], X[:, 1], c=y, cmap='winter')\r\n",
        "func_plot(svm4)"
      ],
      "execution_count": null,
      "outputs": [
        {
          "output_type": "stream",
          "text": [
            "2\n",
            "Problem Status: optimal\n",
            "[[-0.38493724]\n",
            " [-0.35146444]]\n",
            "-0.12133891201898916\n",
            "[[-0.38493723848405215], [-0.3514644351972508]]\n"
          ],
          "name": "stdout"
        },
        {
          "output_type": "display_data",
          "data": {
            "image/png": "[encoded data removed]",
            "text/plain": [
              "<Figure size 432x288 with 1 Axes>"
            ]
          },
          "metadata": {
            "tags": []
          }
        }
      ]
    },
    {
      "cell_type": "markdown",
      "metadata": {
        "id": "Ju1GWuCFPqNj"
      },
      "source": [
        "### Observation:\n",
        "We can see that as c increases the margin is becoming smaller or the model is being bit more on harder side"
      ]
    },
    {
      "cell_type": "code",
      "metadata": {
        "colab": {
          "base_uri": "https://localhost:8080/",
          "height": 366
        },
        "id": "JH7btQ0e5FiG",
        "outputId": "c7ba003c-2744-4e93-ec49-268f04827818"
      },
      "source": [
        "# Write your code here for C= 3\r\n",
        "\r\n",
        "svm5=SVM(mode=\"soft\",c=3)\r\n",
        "\r\n",
        "svm5.fit(X,y)\r\n",
        "\r\n",
        "plt.scatter(X[:, 0], X[:, 1], c=y, cmap='winter')\r\n",
        "func_plot(svm5)"
      ],
      "execution_count": null,
      "outputs": [
        {
          "output_type": "stream",
          "text": [
            "2\n",
            "Problem Status: optimal\n",
            "[[-1.73913043]\n",
            " [-1.30434783]]\n",
            "-2.9130434782869634\n",
            "[[-1.7391304347882353], [-1.3043478261879213]]\n"
          ],
          "name": "stdout"
        },
        {
          "output_type": "display_data",
          "data": {
            "image/png": "[encoded data removed]",
            "text/plain": [
              "<Figure size 432x288 with 1 Axes>"
            ]
          },
          "metadata": {
            "tags": []
          }
        }
      ]
    },
    {
      "cell_type": "code",
      "metadata": {
        "colab": {
          "base_uri": "https://localhost:8080/",
          "height": 366
        },
        "id": "U1jm4png5FiH",
        "outputId": "0508d2cd-60c1-4bba-f33e-e498ceb761e2"
      },
      "source": [
        "# Write your code here for C= 10\r\n",
        "\r\n",
        "\r\n",
        "svm6=SVM(mode=\"soft\",c=10)\r\n",
        "\r\n",
        "svm6.fit(X,y)\r\n",
        "\r\n",
        "plt.scatter(X[:, 0], X[:, 1], c=y, cmap='winter')\r\n",
        "func_plot(svm6)\r\n"
      ],
      "execution_count": null,
      "outputs": [
        {
          "output_type": "stream",
          "text": [
            "2\n",
            "Problem Status: optimal\n",
            "[[-1.73913043]\n",
            " [-1.30434783]]\n",
            "-2.9130434783574235\n",
            "[[-1.7391304348344672], [-1.3043478261281862]]\n"
          ],
          "name": "stdout"
        },
        {
          "output_type": "display_data",
          "data": {
            "image/png": "[encoded data removed]",
            "text/plain": [
              "<Figure size 432x288 with 1 Axes>"
            ]
          },
          "metadata": {
            "tags": []
          }
        }
      ]
    },
    {
      "cell_type": "code",
      "metadata": {
        "colab": {
          "base_uri": "https://localhost:8080/",
          "height": 366
        },
        "id": "XinT5fIP5FiH",
        "outputId": "0534d386-097e-4038-b920-1ab7ae1d727a"
      },
      "source": [
        "# Write your code here for C= 100\r\n",
        "\r\n",
        "svm7=SVM(mode=\"soft\",c=100)\r\n",
        "\r\n",
        "svm7.fit(X,y)\r\n",
        "\r\n",
        "plt.scatter(X[:, 0], X[:, 1], c=y, cmap='winter')\r\n",
        "func_plot(svm7)"
      ],
      "execution_count": null,
      "outputs": [
        {
          "output_type": "stream",
          "text": [
            "2\n",
            "Problem Status: optimal\n",
            "[[-1.73913044]\n",
            " [-1.30434783]]\n",
            "-2.9130434786825745\n",
            "[[-1.7391304350655528], [-1.30434782632928]]\n"
          ],
          "name": "stdout"
        },
        {
          "output_type": "display_data",
          "data": {
            "image/png": "[encoded data removed]",
            "text/plain": [
              "<Figure size 432x288 with 1 Axes>"
            ]
          },
          "metadata": {
            "tags": []
          }
        }
      ]
    },
    {
      "cell_type": "markdown",
      "metadata": {
        "id": "u_a86NsvP7ZB"
      },
      "source": [
        "### Observation:\n",
        "For c=10 and for c=100 the margin is very small and the model is very strict as c increases the room for error diminishes slowly "
      ]
    },
    {
      "cell_type": "markdown",
      "metadata": {
        "id": "TeSxaZiI5FiH"
      },
      "source": [
        "Take the case of C = 100 and remove the support vectors. Does the boundary change after the deletion?\n",
        "Explain why? Show your results by appropriate plots?"
      ]
    },
    {
      "cell_type": "code",
      "metadata": {
        "colab": {
          "base_uri": "https://localhost:8080/"
        },
        "id": "bUQxuNY25FiH",
        "outputId": "07844d8e-b2e4-4641-9953-a0149b07ac02"
      },
      "source": [
        "# Write your Code here\r\n",
        "\r\n",
        "# we need to remove the points where w.T*x+b=-1 or =1\r\n",
        "from numpy.testing import assert_almost_equal\r\n",
        "\r\n",
        "w=svm7.theta\r\n",
        "b=svm7.bias\r\n",
        "\r\n",
        "y_pred = (np.dot(X,w)+b).astype(float)\r\n",
        "\r\n",
        "support_vectors=[]\r\n",
        "take_indices=[]\r\n",
        "epsilon = 1e-8\r\n",
        "c=float(-1.0)\r\n",
        "d=float(1.0)\r\n",
        "print(c,d)\r\n",
        "for i,x in enumerate(X):\r\n",
        "  \r\n",
        "  b=[y_pred[i]][0]\r\n",
        "  if abs(b-c)<epsilon or abs(b-d)<epsilon:\r\n",
        "    support_vectors.append(x)\r\n",
        "  else:\r\n",
        "    take_indices.append(i)\r\n",
        " \r\n",
        "print(take_indices)\r\n"
      ],
      "execution_count": null,
      "outputs": [
        {
          "output_type": "stream",
          "text": [
            "-1.0 1.0\n",
            "[0, 1, 3, 4, 5, 6, 9, 10, 11, 12, 13, 14, 15, 16, 17]\n"
          ],
          "name": "stdout"
        }
      ]
    },
    {
      "cell_type": "code",
      "metadata": {
        "colab": {
          "base_uri": "https://localhost:8080/"
        },
        "id": "GkgpZbJwlFj8",
        "outputId": "7a80448f-322c-4ce9-e9d0-6e77f0b2cb1b"
      },
      "source": [
        "X=np.take(X, take_indices, axis=0)\r\n",
        "y=np.take(y, take_indices, axis=0)\r\n",
        "\r\n",
        "\r\n",
        "print(X.shape)\r\n",
        "print(y.shape)\r\n"
      ],
      "execution_count": null,
      "outputs": [
        {
          "output_type": "stream",
          "text": [
            "(15, 2)\n",
            "(15,)\n"
          ],
          "name": "stdout"
        }
      ]
    },
    {
      "cell_type": "code",
      "metadata": {
        "colab": {
          "base_uri": "https://localhost:8080/",
          "height": 366
        },
        "id": "8hwOhr7gZApC",
        "outputId": "e5b39894-4ab5-40ca-b5f8-5715e291ac1b"
      },
      "source": [
        "svm8=SVM(mode=\"soft\",c=100)\r\n",
        "\r\n",
        "svm8.fit(X,y)\r\n",
        "\r\n",
        "plt.scatter(X[:, 0], X[:, 1], c=y, cmap='winter')\r\n",
        "func_plot(svm8)"
      ],
      "execution_count": null,
      "outputs": [
        {
          "output_type": "stream",
          "text": [
            "2\n",
            "Problem Status: optimal\n",
            "[[-0.38493724]\n",
            " [-0.35146444]]\n",
            "-0.12133891214351254\n",
            "[[-0.3849372385183756], [-0.35146443517329223]]\n"
          ],
          "name": "stdout"
        },
        {
          "output_type": "display_data",
          "data": {
            "image/png": "[encoded data removed]",
            "text/plain": [
              "<Figure size 432x288 with 1 Axes>"
            ]
          },
          "metadata": {
            "tags": []
          }
        }
      ]
    },
    {
      "cell_type": "markdown",
      "metadata": {
        "id": "EzS9ffrU0XrD"
      },
      "source": [
        "## Observation:\r\n",
        "\r\n",
        "1.   It is clear from the above two plots that after removal of the support vectors the margin increased for C=100 thus forming new support vectors.\r\n",
        "\r\n",
        "2.   From the above experiments as C increases the margin decreases. Harder is the classifier \r\n",
        "\r\n",
        "\r\n",
        "\r\n"
      ]
    },
    {
      "cell_type": "markdown",
      "metadata": {
        "id": "kGVKKa285FiI"
      },
      "source": [
        "### Subsection 2"
      ]
    },
    {
      "cell_type": "code",
      "metadata": {
        "colab": {
          "base_uri": "https://localhost:8080/"
        },
        "id": "gdzug4xv5FiI",
        "outputId": "4746f7f5-b1ca-4867-e099-bfc220ce05cf"
      },
      "source": [
        "!pip install python-mnist\n",
        "!rm -rf samples\n",
        "!mkdir samples\n",
        "!wget http://yann.lecun.com/exdb/mnist/train-images-idx3-ubyte.gz -P samples/\n",
        "!gunzip samples/train-images-idx3-ubyte.gz\n",
        "!wget http://yann.lecun.com/exdb/mnist/train-labels-idx1-ubyte.gz -P samples/\n",
        "!gunzip samples/train-labels-idx1-ubyte.gz\n",
        "!wget http://yann.lecun.com/exdb/mnist/t10k-images-idx3-ubyte.gz -P samples/\n",
        "!gunzip samples/t10k-images-idx3-ubyte.gz\n",
        "!wget http://yann.lecun.com/exdb/mnist/t10k-labels-idx1-ubyte.gz -P samples/\n",
        "!gunzip samples/t10k-labels-idx1-ubyte.gz"
      ],
      "execution_count": null,
      "outputs": [
        {
          "output_type": "stream",
          "text": [
            "Collecting python-mnist\n",
            "  Downloading https://files.pythonhosted.org/packages/64/f0/6086b84427c3bf156ec0b3c2f9dfc1d770b35f942b9ed8a64f5229776a80/python_mnist-0.7-py2.py3-none-any.whl\n",
            "Installing collected packages: python-mnist\n",
            "Successfully installed python-mnist-0.7\n",
            "--2021-03-08 22:56:04--  http://yann.lecun.com/exdb/mnist/train-images-idx3-ubyte.gz\n",
            "Resolving yann.lecun.com (yann.lecun.com)... 172.67.171.76, 104.21.29.36, 2606:4700:3034::6815:1d24, ...\n",
            "Connecting to yann.lecun.com (yann.lecun.com)|172.67.171.76|:80... connected.\n",
            "HTTP request sent, awaiting response... 200 OK\n",
            "Length: 9912422 (9.5M) [application/x-gzip]\n",
            "Saving to: ‘samples/train-images-idx3-ubyte.gz’\n",
            "\n",
            "train-images-idx3-u 100%[===================>]   9.45M  9.17MB/s    in 1.0s    \n",
            "\n",
            "2021-03-08 22:56:06 (9.17 MB/s) - ‘samples/train-images-idx3-ubyte.gz’ saved [9912422/9912422]\n",
            "\n",
            "--2021-03-08 22:56:06--  http://yann.lecun.com/exdb/mnist/train-labels-idx1-ubyte.gz\n",
            "Resolving yann.lecun.com (yann.lecun.com)... 172.67.171.76, 104.21.29.36, 2606:4700:3034::6815:1d24, ...\n",
            "Connecting to yann.lecun.com (yann.lecun.com)|172.67.171.76|:80... connected.\n",
            "HTTP request sent, awaiting response... 200 OK\n",
            "Length: 28881 (28K) [application/x-gzip]\n",
            "Saving to: ‘samples/train-labels-idx1-ubyte.gz’\n",
            "\n",
            "train-labels-idx1-u 100%[===================>]  28.20K  --.-KB/s    in 0.08s   \n",
            "\n",
            "2021-03-08 22:56:07 (352 KB/s) - ‘samples/train-labels-idx1-ubyte.gz’ saved [28881/28881]\n",
            "\n",
            "--2021-03-08 22:56:07--  http://yann.lecun.com/exdb/mnist/t10k-images-idx3-ubyte.gz\n",
            "Resolving yann.lecun.com (yann.lecun.com)... 172.67.171.76, 104.21.29.36, 2606:4700:3034::6815:1d24, ...\n",
            "Connecting to yann.lecun.com (yann.lecun.com)|172.67.171.76|:80... connected.\n",
            "HTTP request sent, awaiting response... 200 OK\n",
            "Length: 1648877 (1.6M) [application/x-gzip]\n",
            "Saving to: ‘samples/t10k-images-idx3-ubyte.gz’\n",
            "\n",
            "t10k-images-idx3-ub 100%[===================>]   1.57M  3.24MB/s    in 0.5s    \n",
            "\n",
            "2021-03-08 22:56:07 (3.24 MB/s) - ‘samples/t10k-images-idx3-ubyte.gz’ saved [1648877/1648877]\n",
            "\n",
            "--2021-03-08 22:56:07--  http://yann.lecun.com/exdb/mnist/t10k-labels-idx1-ubyte.gz\n",
            "Resolving yann.lecun.com (yann.lecun.com)... 172.67.171.76, 104.21.29.36, 2606:4700:3034::6815:1d24, ...\n",
            "Connecting to yann.lecun.com (yann.lecun.com)|172.67.171.76|:80... connected.\n",
            "HTTP request sent, awaiting response... 200 OK\n",
            "Length: 4542 (4.4K) [application/x-gzip]\n",
            "Saving to: ‘samples/t10k-labels-idx1-ubyte.gz’\n",
            "\n",
            "t10k-labels-idx1-ub 100%[===================>]   4.44K  --.-KB/s    in 0s      \n",
            "\n",
            "2021-03-08 22:56:08 (712 MB/s) - ‘samples/t10k-labels-idx1-ubyte.gz’ saved [4542/4542]\n",
            "\n"
          ],
          "name": "stdout"
        }
      ]
    },
    {
      "cell_type": "code",
      "metadata": {
        "id": "xL5RAAyf5FiI"
      },
      "source": [
        "# Import Relevant Packages\n",
        "from sklearn.svm import SVC\n",
        "import numpy as np\n",
        "from mnist.loader import MNIST"
      ],
      "execution_count": null,
      "outputs": []
    },
    {
      "cell_type": "code",
      "metadata": {
        "colab": {
          "base_uri": "https://localhost:8080/"
        },
        "id": "ofjCisb_5FiI",
        "outputId": "543a8573-96b3-4adb-c3c3-c6e8629c3244"
      },
      "source": [
        "mndata = MNIST('samples')\n",
        "\n",
        "# Load training dataset\n",
        "images, labels = mndata.load_training()\n",
        "l = len(labels)\n",
        "images_train = np.array(images)\n",
        "labels_train = np.array(labels)\n",
        "\n",
        "print(images_train.shape)\n",
        "print(labels_train.shape)\n",
        "\n",
        "\n"
      ],
      "execution_count": null,
      "outputs": [
        {
          "output_type": "stream",
          "text": [
            "(60000, 784)\n",
            "(60000,)\n"
          ],
          "name": "stdout"
        }
      ]
    },
    {
      "cell_type": "code",
      "metadata": {
        "colab": {
          "base_uri": "https://localhost:8080/"
        },
        "id": "N89i0B8M5FiJ",
        "outputId": "ceec4a8a-e7cc-4c34-af11-c184fc72d748"
      },
      "source": [
        "# Load testing dataset\n",
        "images, labels = mndata.load_testing()\n",
        "l = len(labels)\n",
        "images_test = np.array(images)\n",
        "labels_test = np.array(labels)\n",
        "\n",
        "print(images_test.shape)\n",
        "print(labels_test.shape)\n",
        "\n",
        "\n",
        "train_filter = np.where((labels_train == 0 ) | (labels_train == 1) | (labels_train == 2))    #| (labels_train == 3))\n",
        "test_filter = np.where((labels_test == 0) | (labels_test == 1) | (labels_test == 2))   # | (labels_test == 3))\n",
        "\n",
        "\n",
        "\n",
        "images_train, labels_train = images_train[train_filter], labels_train[train_filter]\n",
        "images_test, labels_test = images_test[test_filter], labels_test[test_filter]\n",
        "\n",
        "\n",
        "print(images_train.shape)\n",
        "print(labels_train.shape)\n",
        "\n",
        "print(images_test.shape)\n",
        "print(labels_test.shape)\n"
      ],
      "execution_count": null,
      "outputs": [
        {
          "output_type": "stream",
          "text": [
            "(10000, 784)\n",
            "(10000,)\n",
            "(18623, 784)\n",
            "(18623,)\n",
            "(3147, 784)\n",
            "(3147,)\n"
          ],
          "name": "stdout"
        }
      ]
    },
    {
      "cell_type": "markdown",
      "metadata": {
        "id": "I0bsvxgN5FiJ"
      },
      "source": [
        "- Tweak different parameters like the C Parameter and gamma parameter of the Linear SVM and report the results.\n",
        "- Experiment different kernels for classification and report the results.\n",
        "\n",
        "Report accuracy score, F1-score, Confusion matrix and any other metrics you feel useful."
      ]
    },
    {
      "cell_type": "code",
      "metadata": {
        "id": "MVtOR6qIfzIZ"
      },
      "source": [
        "from sklearn import metrics\r\n",
        "from sklearn.metrics import confusion_matrix\r\n",
        "from sklearn.metrics import f1_score\r\n",
        "import seaborn as sns"
      ],
      "execution_count": null,
      "outputs": []
    },
    {
      "cell_type": "markdown",
      "metadata": {
        "id": "OSXjVJeshNnq"
      },
      "source": [
        "## Linear kernel"
      ]
    },
    {
      "cell_type": "code",
      "metadata": {
        "id": "E-OJbe9nJs_Q"
      },
      "source": [
        "def accuracy_scores(kernel,labels_pred,c,gamma_):\r\n",
        "  print(\"Model with kernel {} and parameters C = {} and gamma = {} has  f1score:{} \".format(kernel,c,gamma_, f1_score(labels_test, labels_pred, average='weighted')))\r\n",
        "\r\n",
        "  print(\"\")\r\n",
        "\r\n",
        "  print(\"Model with kernel {} and parameters C = {} and gamma = {} has  accuracy:{} \".format(kernel,c,gamma_, metrics.accuracy_score(y_true=labels_test, y_pred=labels_pred)))\r\n",
        "\r\n",
        "  cm=confusion_matrix(labels_test, labels_pred)\r\n",
        "\r\n",
        "  print(\" Confusion Matrix - MODEL: {} c = {} gamma_ = {}\".format(kernel,c,gamma_))\r\n",
        "\r\n",
        "  print(cm)\r\n",
        "\r\n",
        "  return cm"
      ],
      "execution_count": null,
      "outputs": []
    },
    {
      "cell_type": "code",
      "metadata": {
        "colab": {
          "base_uri": "https://localhost:8080/"
        },
        "id": "scnS_dzufJjV",
        "outputId": "0009cccc-0df8-46a0-aad2-90b1f41db2e2"
      },
      "source": [
        "import itertools\r\n",
        "c=['0.001','0.01','0.1','1','10','100']\r\n",
        "gamma_=['scale','auto']\r\n",
        "\r\n",
        "permute=list(map(','.join, itertools.chain(itertools.product(c, gamma_), itertools.product(c, gamma_))))\r\n",
        "\r\n",
        "print(permute)\r\n",
        "\r\n",
        "def model(kernel_):\r\n",
        "  cm=[]\r\n",
        "  for param in permute:\r\n",
        "    p=param.split(',')\r\n",
        "\r\n",
        "    model_linear = SVC(C=float(p[0]),kernel=kernel_,gamma=p[1])\r\n",
        "    model_linear.fit(images_train, labels_train)\r\n",
        "\r\n",
        "    # predict\r\n",
        "    labels_pred = model_linear.predict(images_test)\r\n",
        "    cm=accuracy_scores(kernel_,labels_pred,p[0],p[1])\r\n",
        "  return cm "
      ],
      "execution_count": null,
      "outputs": [
        {
          "output_type": "stream",
          "text": [
            "['0.001,scale', '0.001,auto', '0.01,scale', '0.01,auto', '0.1,scale', '0.1,auto', '1,scale', '1,auto', '10,scale', '10,auto', '100,scale', '100,auto', '0.001,scale', '0.001,auto', '0.01,scale', '0.01,auto', '0.1,scale', '0.1,auto', '1,scale', '1,auto', '10,scale', '10,auto', '100,scale', '100,auto']\n"
          ],
          "name": "stdout"
        }
      ]
    },
    {
      "cell_type": "code",
      "metadata": {
        "colab": {
          "base_uri": "https://localhost:8080/",
          "height": 1000
        },
        "id": "ISgOBO5FJx5L",
        "outputId": "782db36d-5307-432a-ecc6-b14e564f2d13"
      },
      "source": [
        "cm=model('linear')\r\n",
        "\r\n",
        "# confusion matrix for the last combination\r\n",
        "\r\n",
        "sns.heatmap(cm/np.sum(cm), annot=True, fmt='.2%', cmap='Blues')"
      ],
      "execution_count": null,
      "outputs": [
        {
          "output_type": "stream",
          "text": [
            "Model with kernel linear and parameters C = 0.001 and gamma = scale has  f1score:0.9808744005867673 \n",
            "\n",
            "Model with kernel linear and parameters C = 0.001 and gamma = scale has  accuracy:0.9809342230695901 \n",
            " Confusion Matrix - MODEL: linear c = 0.001 gamma_ = scale\n",
            "[[ 971    0    9]\n",
            " [   1 1127    7]\n",
            " [  24   19  989]]\n",
            "Model with kernel linear and parameters C = 0.001 and gamma = auto has  f1score:0.9808744005867673 \n",
            "\n",
            "Model with kernel linear and parameters C = 0.001 and gamma = auto has  accuracy:0.9809342230695901 \n",
            " Confusion Matrix - MODEL: linear c = 0.001 gamma_ = auto\n",
            "[[ 971    0    9]\n",
            " [   1 1127    7]\n",
            " [  24   19  989]]\n",
            "Model with kernel linear and parameters C = 0.01 and gamma = scale has  f1score:0.9808744005867673 \n",
            "\n",
            "Model with kernel linear and parameters C = 0.01 and gamma = scale has  accuracy:0.9809342230695901 \n",
            " Confusion Matrix - MODEL: linear c = 0.01 gamma_ = scale\n",
            "[[ 971    0    9]\n",
            " [   1 1127    7]\n",
            " [  24   19  989]]\n",
            "Model with kernel linear and parameters C = 0.01 and gamma = auto has  f1score:0.9808744005867673 \n",
            "\n",
            "Model with kernel linear and parameters C = 0.01 and gamma = auto has  accuracy:0.9809342230695901 \n",
            " Confusion Matrix - MODEL: linear c = 0.01 gamma_ = auto\n",
            "[[ 971    0    9]\n",
            " [   1 1127    7]\n",
            " [  24   19  989]]\n",
            "Model with kernel linear and parameters C = 0.1 and gamma = scale has  f1score:0.9808744005867673 \n",
            "\n",
            "Model with kernel linear and parameters C = 0.1 and gamma = scale has  accuracy:0.9809342230695901 \n",
            " Confusion Matrix - MODEL: linear c = 0.1 gamma_ = scale\n",
            "[[ 971    0    9]\n",
            " [   1 1127    7]\n",
            " [  24   19  989]]\n",
            "Model with kernel linear and parameters C = 0.1 and gamma = auto has  f1score:0.9808744005867673 \n",
            "\n",
            "Model with kernel linear and parameters C = 0.1 and gamma = auto has  accuracy:0.9809342230695901 \n",
            " Confusion Matrix - MODEL: linear c = 0.1 gamma_ = auto\n",
            "[[ 971    0    9]\n",
            " [   1 1127    7]\n",
            " [  24   19  989]]\n",
            "Model with kernel linear and parameters C = 1 and gamma = scale has  f1score:0.9808744005867673 \n",
            "\n",
            "Model with kernel linear and parameters C = 1 and gamma = scale has  accuracy:0.9809342230695901 \n",
            " Confusion Matrix - MODEL: linear c = 1 gamma_ = scale\n",
            "[[ 971    0    9]\n",
            " [   1 1127    7]\n",
            " [  24   19  989]]\n",
            "Model with kernel linear and parameters C = 1 and gamma = auto has  f1score:0.9808744005867673 \n",
            "\n",
            "Model with kernel linear and parameters C = 1 and gamma = auto has  accuracy:0.9809342230695901 \n",
            " Confusion Matrix - MODEL: linear c = 1 gamma_ = auto\n",
            "[[ 971    0    9]\n",
            " [   1 1127    7]\n",
            " [  24   19  989]]\n",
            "Model with kernel linear and parameters C = 10 and gamma = scale has  f1score:0.9808744005867673 \n",
            "\n",
            "Model with kernel linear and parameters C = 10 and gamma = scale has  accuracy:0.9809342230695901 \n",
            " Confusion Matrix - MODEL: linear c = 10 gamma_ = scale\n",
            "[[ 971    0    9]\n",
            " [   1 1127    7]\n",
            " [  24   19  989]]\n",
            "Model with kernel linear and parameters C = 10 and gamma = auto has  f1score:0.9808744005867673 \n",
            "\n",
            "Model with kernel linear and parameters C = 10 and gamma = auto has  accuracy:0.9809342230695901 \n",
            " Confusion Matrix - MODEL: linear c = 10 gamma_ = auto\n",
            "[[ 971    0    9]\n",
            " [   1 1127    7]\n",
            " [  24   19  989]]\n",
            "Model with kernel linear and parameters C = 100 and gamma = scale has  f1score:0.9808744005867673 \n",
            "\n",
            "Model with kernel linear and parameters C = 100 and gamma = scale has  accuracy:0.9809342230695901 \n",
            " Confusion Matrix - MODEL: linear c = 100 gamma_ = scale\n",
            "[[ 971    0    9]\n",
            " [   1 1127    7]\n",
            " [  24   19  989]]\n",
            "Model with kernel linear and parameters C = 100 and gamma = auto has  f1score:0.9808744005867673 \n",
            "\n",
            "Model with kernel linear and parameters C = 100 and gamma = auto has  accuracy:0.9809342230695901 \n",
            " Confusion Matrix - MODEL: linear c = 100 gamma_ = auto\n",
            "[[ 971    0    9]\n",
            " [   1 1127    7]\n",
            " [  24   19  989]]\n",
            "Model with kernel linear and parameters C = 0.001 and gamma = scale has  f1score:0.9808744005867673 \n",
            "\n",
            "Model with kernel linear and parameters C = 0.001 and gamma = scale has  accuracy:0.9809342230695901 \n",
            " Confusion Matrix - MODEL: linear c = 0.001 gamma_ = scale\n",
            "[[ 971    0    9]\n",
            " [   1 1127    7]\n",
            " [  24   19  989]]\n",
            "Model with kernel linear and parameters C = 0.001 and gamma = auto has  f1score:0.9808744005867673 \n",
            "\n",
            "Model with kernel linear and parameters C = 0.001 and gamma = auto has  accuracy:0.9809342230695901 \n",
            " Confusion Matrix - MODEL: linear c = 0.001 gamma_ = auto\n",
            "[[ 971    0    9]\n",
            " [   1 1127    7]\n",
            " [  24   19  989]]\n",
            "Model with kernel linear and parameters C = 0.01 and gamma = scale has  f1score:0.9808744005867673 \n",
            "\n",
            "Model with kernel linear and parameters C = 0.01 and gamma = scale has  accuracy:0.9809342230695901 \n",
            " Confusion Matrix - MODEL: linear c = 0.01 gamma_ = scale\n",
            "[[ 971    0    9]\n",
            " [   1 1127    7]\n",
            " [  24   19  989]]\n",
            "Model with kernel linear and parameters C = 0.01 and gamma = auto has  f1score:0.9808744005867673 \n",
            "\n",
            "Model with kernel linear and parameters C = 0.01 and gamma = auto has  accuracy:0.9809342230695901 \n",
            " Confusion Matrix - MODEL: linear c = 0.01 gamma_ = auto\n",
            "[[ 971    0    9]\n",
            " [   1 1127    7]\n",
            " [  24   19  989]]\n",
            "Model with kernel linear and parameters C = 0.1 and gamma = scale has  f1score:0.9808744005867673 \n",
            "\n",
            "Model with kernel linear and parameters C = 0.1 and gamma = scale has  accuracy:0.9809342230695901 \n",
            " Confusion Matrix - MODEL: linear c = 0.1 gamma_ = scale\n",
            "[[ 971    0    9]\n",
            " [   1 1127    7]\n",
            " [  24   19  989]]\n",
            "Model with kernel linear and parameters C = 0.1 and gamma = auto has  f1score:0.9808744005867673 \n",
            "\n",
            "Model with kernel linear and parameters C = 0.1 and gamma = auto has  accuracy:0.9809342230695901 \n",
            " Confusion Matrix - MODEL: linear c = 0.1 gamma_ = auto\n",
            "[[ 971    0    9]\n",
            " [   1 1127    7]\n",
            " [  24   19  989]]\n",
            "Model with kernel linear and parameters C = 1 and gamma = scale has  f1score:0.9808744005867673 \n",
            "\n",
            "Model with kernel linear and parameters C = 1 and gamma = scale has  accuracy:0.9809342230695901 \n",
            " Confusion Matrix - MODEL: linear c = 1 gamma_ = scale\n",
            "[[ 971    0    9]\n",
            " [   1 1127    7]\n",
            " [  24   19  989]]\n",
            "Model with kernel linear and parameters C = 1 and gamma = auto has  f1score:0.9808744005867673 \n",
            "\n",
            "Model with kernel linear and parameters C = 1 and gamma = auto has  accuracy:0.9809342230695901 \n",
            " Confusion Matrix - MODEL: linear c = 1 gamma_ = auto\n",
            "[[ 971    0    9]\n",
            " [   1 1127    7]\n",
            " [  24   19  989]]\n",
            "Model with kernel linear and parameters C = 10 and gamma = scale has  f1score:0.9808744005867673 \n",
            "\n",
            "Model with kernel linear and parameters C = 10 and gamma = scale has  accuracy:0.9809342230695901 \n",
            " Confusion Matrix - MODEL: linear c = 10 gamma_ = scale\n",
            "[[ 971    0    9]\n",
            " [   1 1127    7]\n",
            " [  24   19  989]]\n",
            "Model with kernel linear and parameters C = 10 and gamma = auto has  f1score:0.9808744005867673 \n",
            "\n",
            "Model with kernel linear and parameters C = 10 and gamma = auto has  accuracy:0.9809342230695901 \n",
            " Confusion Matrix - MODEL: linear c = 10 gamma_ = auto\n",
            "[[ 971    0    9]\n",
            " [   1 1127    7]\n",
            " [  24   19  989]]\n",
            "Model with kernel linear and parameters C = 100 and gamma = scale has  f1score:0.9808744005867673 \n",
            "\n",
            "Model with kernel linear and parameters C = 100 and gamma = scale has  accuracy:0.9809342230695901 \n",
            " Confusion Matrix - MODEL: linear c = 100 gamma_ = scale\n",
            "[[ 971    0    9]\n",
            " [   1 1127    7]\n",
            " [  24   19  989]]\n",
            "Model with kernel linear and parameters C = 100 and gamma = auto has  f1score:0.9808744005867673 \n",
            "\n",
            "Model with kernel linear and parameters C = 100 and gamma = auto has  accuracy:0.9809342230695901 \n",
            " Confusion Matrix - MODEL: linear c = 100 gamma_ = auto\n",
            "[[ 971    0    9]\n",
            " [   1 1127    7]\n",
            " [  24   19  989]]\n"
          ],
          "name": "stdout"
        },
        {
          "output_type": "execute_result",
          "data": {
            "text/plain": [
              "<matplotlib.axes._subplots.AxesSubplot at 0x7f4fb01e2790>"
            ]
          },
          "metadata": {
            "tags": []
          },
          "execution_count": 226
        },
        {
          "output_type": "display_data",
          "data": {
            "image/png": "[encoded data removed]",
            "text/plain": [
              "<Figure size 432x288 with 2 Axes>"
            ]
          },
          "metadata": {
            "tags": []
          }
        }
      ]
    },
    {
      "cell_type": "markdown",
      "metadata": {
        "id": "6UGc48J6QVEF"
      },
      "source": [
        "### Observation:\n",
        "We can see from the above observation the accuracy is same for all possible combinations of C and gamma . The model is producing high accuracy of o.98 and o.98 f1 score. Linear kernel is performing well on the data "
      ]
    },
    {
      "cell_type": "markdown",
      "metadata": {
        "id": "WnUVN5eLhQt1"
      },
      "source": [
        "## Polynomial Kernel:"
      ]
    },
    {
      "cell_type": "code",
      "metadata": {
        "colab": {
          "base_uri": "https://localhost:8080/",
          "height": 1000
        },
        "id": "oZXibF80F0o6",
        "outputId": "65877309-2a4d-425d-edaa-e7d7ece28a12"
      },
      "source": [
        "cm=model(\"poly\")\r\n",
        "\r\n",
        "# confusion matrix for the last combination\r\n",
        "\r\n",
        "sns.heatmap(cm/np.sum(cm), annot=True, fmt='.2%', cmap='Blues')"
      ],
      "execution_count": null,
      "outputs": [
        {
          "output_type": "stream",
          "text": [
            "Model with kernel poly and parameters C = 0.001 and gamma = scale has  f1score:0.7955386360973828 \n",
            "\n",
            "Model with kernel poly and parameters C = 0.001 and gamma = scale has  accuracy:0.7959961868446139 \n",
            " Confusion Matrix - MODEL: poly c = 0.001 gamma_ = scale\n",
            "[[ 762  207   11]\n",
            " [   0 1134    1]\n",
            " [  12  411  609]]\n",
            "Model with kernel poly and parameters C = 0.001 and gamma = auto has  f1score:0.9939604576985398 \n",
            "\n",
            "Model with kernel poly and parameters C = 0.001 and gamma = auto has  accuracy:0.9939625039720369 \n",
            " Confusion Matrix - MODEL: poly c = 0.001 gamma_ = auto\n",
            "[[ 976    2    2]\n",
            " [   0 1131    4]\n",
            " [   8    3 1021]]\n",
            "Model with kernel poly and parameters C = 0.01 and gamma = scale has  f1score:0.9486352290968783 \n",
            "\n",
            "Model with kernel poly and parameters C = 0.01 and gamma = scale has  accuracy:0.9485224022878932 \n",
            " Confusion Matrix - MODEL: poly c = 0.01 gamma_ = scale\n",
            "[[ 934   41    5]\n",
            " [   0 1129    6]\n",
            " [  14   96  922]]\n",
            "Model with kernel poly and parameters C = 0.01 and gamma = auto has  f1score:0.9939604576985398 \n",
            "\n",
            "Model with kernel poly and parameters C = 0.01 and gamma = auto has  accuracy:0.9939625039720369 \n",
            " Confusion Matrix - MODEL: poly c = 0.01 gamma_ = auto\n",
            "[[ 976    2    2]\n",
            " [   0 1131    4]\n",
            " [   8    3 1021]]\n",
            "Model with kernel poly and parameters C = 0.1 and gamma = scale has  f1score:0.9860091573108619 \n",
            "\n",
            "Model with kernel poly and parameters C = 0.1 and gamma = scale has  accuracy:0.9860184302510328 \n",
            " Confusion Matrix - MODEL: poly c = 0.1 gamma_ = scale\n",
            "[[ 968    8    4]\n",
            " [   0 1131    4]\n",
            " [   8   20 1004]]\n",
            "Model with kernel poly and parameters C = 0.1 and gamma = auto has  f1score:0.9939604576985398 \n",
            "\n",
            "Model with kernel poly and parameters C = 0.1 and gamma = auto has  accuracy:0.9939625039720369 \n",
            " Confusion Matrix - MODEL: poly c = 0.1 gamma_ = auto\n",
            "[[ 976    2    2]\n",
            " [   0 1131    4]\n",
            " [   8    3 1021]]\n",
            "Model with kernel poly and parameters C = 1 and gamma = scale has  f1score:0.9939597757887924 \n",
            "\n",
            "Model with kernel poly and parameters C = 1 and gamma = scale has  accuracy:0.9939625039720369 \n",
            " Confusion Matrix - MODEL: poly c = 1 gamma_ = scale\n",
            "[[ 975    2    3]\n",
            " [   0 1132    3]\n",
            " [   7    4 1021]]\n",
            "Model with kernel poly and parameters C = 1 and gamma = auto has  f1score:0.9939604576985398 \n",
            "\n",
            "Model with kernel poly and parameters C = 1 and gamma = auto has  accuracy:0.9939625039720369 \n",
            " Confusion Matrix - MODEL: poly c = 1 gamma_ = auto\n",
            "[[ 976    2    2]\n",
            " [   0 1131    4]\n",
            " [   8    3 1021]]\n",
            "Model with kernel poly and parameters C = 10 and gamma = scale has  f1score:0.9939608338834164 \n",
            "\n",
            "Model with kernel poly and parameters C = 10 and gamma = scale has  accuracy:0.9939625039720369 \n",
            " Confusion Matrix - MODEL: poly c = 10 gamma_ = scale\n",
            "[[ 976    1    3]\n",
            " [   0 1131    4]\n",
            " [   8    3 1021]]\n",
            "Model with kernel poly and parameters C = 10 and gamma = auto has  f1score:0.9939604576985398 \n",
            "\n",
            "Model with kernel poly and parameters C = 10 and gamma = auto has  accuracy:0.9939625039720369 \n",
            " Confusion Matrix - MODEL: poly c = 10 gamma_ = auto\n",
            "[[ 976    2    2]\n",
            " [   0 1131    4]\n",
            " [   8    3 1021]]\n",
            "Model with kernel poly and parameters C = 100 and gamma = scale has  f1score:0.9939604576985398 \n",
            "\n",
            "Model with kernel poly and parameters C = 100 and gamma = scale has  accuracy:0.9939625039720369 \n",
            " Confusion Matrix - MODEL: poly c = 100 gamma_ = scale\n",
            "[[ 976    2    2]\n",
            " [   0 1131    4]\n",
            " [   8    3 1021]]\n",
            "Model with kernel poly and parameters C = 100 and gamma = auto has  f1score:0.9939604576985398 \n",
            "\n",
            "Model with kernel poly and parameters C = 100 and gamma = auto has  accuracy:0.9939625039720369 \n",
            " Confusion Matrix - MODEL: poly c = 100 gamma_ = auto\n",
            "[[ 976    2    2]\n",
            " [   0 1131    4]\n",
            " [   8    3 1021]]\n",
            "Model with kernel poly and parameters C = 0.001 and gamma = scale has  f1score:0.7955386360973828 \n",
            "\n",
            "Model with kernel poly and parameters C = 0.001 and gamma = scale has  accuracy:0.7959961868446139 \n",
            " Confusion Matrix - MODEL: poly c = 0.001 gamma_ = scale\n",
            "[[ 762  207   11]\n",
            " [   0 1134    1]\n",
            " [  12  411  609]]\n",
            "Model with kernel poly and parameters C = 0.001 and gamma = auto has  f1score:0.9939604576985398 \n",
            "\n",
            "Model with kernel poly and parameters C = 0.001 and gamma = auto has  accuracy:0.9939625039720369 \n",
            " Confusion Matrix - MODEL: poly c = 0.001 gamma_ = auto\n",
            "[[ 976    2    2]\n",
            " [   0 1131    4]\n",
            " [   8    3 1021]]\n",
            "Model with kernel poly and parameters C = 0.01 and gamma = scale has  f1score:0.9486352290968783 \n",
            "\n",
            "Model with kernel poly and parameters C = 0.01 and gamma = scale has  accuracy:0.9485224022878932 \n",
            " Confusion Matrix - MODEL: poly c = 0.01 gamma_ = scale\n",
            "[[ 934   41    5]\n",
            " [   0 1129    6]\n",
            " [  14   96  922]]\n",
            "Model with kernel poly and parameters C = 0.01 and gamma = auto has  f1score:0.9939604576985398 \n",
            "\n",
            "Model with kernel poly and parameters C = 0.01 and gamma = auto has  accuracy:0.9939625039720369 \n",
            " Confusion Matrix - MODEL: poly c = 0.01 gamma_ = auto\n",
            "[[ 976    2    2]\n",
            " [   0 1131    4]\n",
            " [   8    3 1021]]\n",
            "Model with kernel poly and parameters C = 0.1 and gamma = scale has  f1score:0.9860091573108619 \n",
            "\n",
            "Model with kernel poly and parameters C = 0.1 and gamma = scale has  accuracy:0.9860184302510328 \n",
            " Confusion Matrix - MODEL: poly c = 0.1 gamma_ = scale\n",
            "[[ 968    8    4]\n",
            " [   0 1131    4]\n",
            " [   8   20 1004]]\n",
            "Model with kernel poly and parameters C = 0.1 and gamma = auto has  f1score:0.9939604576985398 \n",
            "\n",
            "Model with kernel poly and parameters C = 0.1 and gamma = auto has  accuracy:0.9939625039720369 \n",
            " Confusion Matrix - MODEL: poly c = 0.1 gamma_ = auto\n",
            "[[ 976    2    2]\n",
            " [   0 1131    4]\n",
            " [   8    3 1021]]\n",
            "Model with kernel poly and parameters C = 1 and gamma = scale has  f1score:0.9939597757887924 \n",
            "\n",
            "Model with kernel poly and parameters C = 1 and gamma = scale has  accuracy:0.9939625039720369 \n",
            " Confusion Matrix - MODEL: poly c = 1 gamma_ = scale\n",
            "[[ 975    2    3]\n",
            " [   0 1132    3]\n",
            " [   7    4 1021]]\n",
            "Model with kernel poly and parameters C = 1 and gamma = auto has  f1score:0.9939604576985398 \n",
            "\n",
            "Model with kernel poly and parameters C = 1 and gamma = auto has  accuracy:0.9939625039720369 \n",
            " Confusion Matrix - MODEL: poly c = 1 gamma_ = auto\n",
            "[[ 976    2    2]\n",
            " [   0 1131    4]\n",
            " [   8    3 1021]]\n",
            "Model with kernel poly and parameters C = 10 and gamma = scale has  f1score:0.9939608338834164 \n",
            "\n",
            "Model with kernel poly and parameters C = 10 and gamma = scale has  accuracy:0.9939625039720369 \n",
            " Confusion Matrix - MODEL: poly c = 10 gamma_ = scale\n",
            "[[ 976    1    3]\n",
            " [   0 1131    4]\n",
            " [   8    3 1021]]\n",
            "Model with kernel poly and parameters C = 10 and gamma = auto has  f1score:0.9939604576985398 \n",
            "\n",
            "Model with kernel poly and parameters C = 10 and gamma = auto has  accuracy:0.9939625039720369 \n",
            " Confusion Matrix - MODEL: poly c = 10 gamma_ = auto\n",
            "[[ 976    2    2]\n",
            " [   0 1131    4]\n",
            " [   8    3 1021]]\n",
            "Model with kernel poly and parameters C = 100 and gamma = scale has  f1score:0.9939604576985398 \n",
            "\n",
            "Model with kernel poly and parameters C = 100 and gamma = scale has  accuracy:0.9939625039720369 \n",
            " Confusion Matrix - MODEL: poly c = 100 gamma_ = scale\n",
            "[[ 976    2    2]\n",
            " [   0 1131    4]\n",
            " [   8    3 1021]]\n",
            "Model with kernel poly and parameters C = 100 and gamma = auto has  f1score:0.9939604576985398 \n",
            "\n",
            "Model with kernel poly and parameters C = 100 and gamma = auto has  accuracy:0.9939625039720369 \n",
            " Confusion Matrix - MODEL: poly c = 100 gamma_ = auto\n",
            "[[ 976    2    2]\n",
            " [   0 1131    4]\n",
            " [   8    3 1021]]\n"
          ],
          "name": "stdout"
        },
        {
          "output_type": "execute_result",
          "data": {
            "text/plain": [
              "<matplotlib.axes._subplots.AxesSubplot at 0x7f4fb0133a90>"
            ]
          },
          "metadata": {
            "tags": []
          },
          "execution_count": 227
        },
        {
          "output_type": "display_data",
          "data": {
            "image/png": "[encoded data removed]",
            "text/plain": [
              "<Figure size 432x288 with 2 Axes>"
            ]
          },
          "metadata": {
            "tags": []
          }
        }
      ]
    },
    {
      "cell_type": "markdown",
      "metadata": {
        "id": "vK-1PQOuSf5r"
      },
      "source": [
        "### Observations:\n",
        "As C value increases and gamma= scale the accuracy and f1 score are increasing on the model trained with the polynomial kernel. For higher c with gamma as scale the model is better compared to the linear kernel."
      ]
    },
    {
      "cell_type": "markdown",
      "metadata": {
        "id": "TzPptxCDF66u"
      },
      "source": [
        "## RBF Kernel:"
      ]
    },
    {
      "cell_type": "code",
      "metadata": {
        "colab": {
          "base_uri": "https://localhost:8080/"
        },
        "id": "CrkOwBwSF9fd",
        "outputId": "b7dd079d-cfd7-4516-89e4-d18bdf4629b8"
      },
      "source": [
        "cm=model(\"rbf\")\r\n",
        "\r\n",
        "# confusion matrix for the last combination\r\n",
        "\r\n",
        "sns.heatmap(cm/np.sum(cm), annot=True, fmt='.2%', cmap='Blues')"
      ],
      "execution_count": null,
      "outputs": [
        {
          "output_type": "stream",
          "text": [
            "Model with kernel rbf and parameters C = 0.001 and gamma = scale has  f1score:0.9522909687265174 \n",
            "\n",
            "Model with kernel rbf and parameters C = 0.001 and gamma = scale has  accuracy:0.9523355576739753 \n",
            " Confusion Matrix - MODEL: rbf c = 0.001 gamma_ = scale\n",
            "[[ 932    1   47]\n",
            " [   0 1113   22]\n",
            " [  17   63  952]]\n",
            "Model with kernel rbf and parameters C = 0.001 and gamma = auto has  f1score:0.19119578457245295 \n",
            "\n",
            "Model with kernel rbf and parameters C = 0.001 and gamma = auto has  accuracy:0.3606609469335875 \n",
            " Confusion Matrix - MODEL: rbf c = 0.001 gamma_ = auto\n",
            "[[   0  980    0]\n",
            " [   0 1135    0]\n",
            " [   0 1032    0]]\n",
            "Model with kernel rbf and parameters C = 0.01 and gamma = scale has  f1score:0.9882377716636775 \n",
            "\n",
            "Model with kernel rbf and parameters C = 0.01 and gamma = scale has  accuracy:0.9882427708929139 \n",
            " Confusion Matrix - MODEL: rbf c = 0.01 gamma_ = scale\n",
            "[[ 974    1    5]\n",
            " [   0 1125   10]\n",
            " [  15    6 1011]]\n",
            "Model with kernel rbf and parameters C = 0.01 and gamma = auto has  f1score:0.19119578457245295 \n",
            "\n",
            "Model with kernel rbf and parameters C = 0.01 and gamma = auto has  accuracy:0.3606609469335875 \n",
            " Confusion Matrix - MODEL: rbf c = 0.01 gamma_ = auto\n",
            "[[   0  980    0]\n",
            " [   0 1135    0]\n",
            " [   0 1032    0]]\n",
            "Model with kernel rbf and parameters C = 0.1 and gamma = scale has  f1score:0.9933290771100632 \n",
            "\n",
            "Model with kernel rbf and parameters C = 0.1 and gamma = scale has  accuracy:0.9933269780743565 \n",
            " Confusion Matrix - MODEL: rbf c = 0.1 gamma_ = scale\n",
            "[[ 976    1    3]\n",
            " [   0 1128    7]\n",
            " [   9    1 1022]]\n",
            "Model with kernel rbf and parameters C = 0.1 and gamma = auto has  f1score:0.19119578457245295 \n",
            "\n",
            "Model with kernel rbf and parameters C = 0.1 and gamma = auto has  accuracy:0.3606609469335875 \n",
            " Confusion Matrix - MODEL: rbf c = 0.1 gamma_ = auto\n",
            "[[   0  980    0]\n",
            " [   0 1135    0]\n",
            " [   0 1032    0]]\n",
            "Model with kernel rbf and parameters C = 1 and gamma = scale has  f1score:0.9955510370717688 \n",
            "\n",
            "Model with kernel rbf and parameters C = 1 and gamma = scale has  accuracy:0.9955513187162377 \n",
            " Confusion Matrix - MODEL: rbf c = 1 gamma_ = scale\n",
            "[[ 979    0    1]\n",
            " [   0 1131    4]\n",
            " [   8    1 1023]]\n",
            "Model with kernel rbf and parameters C = 1 and gamma = auto has  f1score:0.19119578457245295 \n",
            "\n",
            "Model with kernel rbf and parameters C = 1 and gamma = auto has  accuracy:0.3606609469335875 \n",
            " Confusion Matrix - MODEL: rbf c = 1 gamma_ = auto\n",
            "[[   0  980    0]\n",
            " [   0 1135    0]\n",
            " [   0 1032    0]]\n",
            "Model with kernel rbf and parameters C = 1 and gamma = auto has  f1score:0.19119578457245295 \n",
            "\n",
            "Model with kernel rbf and parameters C = 1 and gamma = auto has  accuracy:0.3606609469335875 \n",
            " Confusion Matrix - MODEL: rbf c = 1 gamma_ = auto\n",
            "[[   0  980    0]\n",
            " [   0 1135    0]\n",
            " [   0 1032    0]]\n",
            "Model with kernel rbf and parameters C = 10 and gamma = scale has  f1score:0.995550497553937 \n",
            "\n",
            "Model with kernel rbf and parameters C = 10 and gamma = scale has  accuracy:0.9955513187162377 \n",
            " Confusion Matrix - MODEL: rbf c = 10 gamma_ = scale\n",
            "[[ 977    1    2]\n",
            " [   0 1132    3]\n",
            " [   6    2 1024]]\n",
            "Model with kernel rbf and parameters C = 10 and gamma = scale has  f1score:0.995550497553937 \n",
            "\n",
            "Model with kernel rbf and parameters C = 10 and gamma = scale has  accuracy:0.9955513187162377 \n",
            " Confusion Matrix - MODEL: rbf c = 10 gamma_ = scale\n",
            "[[ 977    1    2]\n",
            " [   0 1132    3]\n",
            " [   6    2 1024]]\n",
            "Model with kernel rbf and parameters C = 10 and gamma = auto has  f1score:0.19119578457245295 \n",
            "\n",
            "Model with kernel rbf and parameters C = 10 and gamma = auto has  accuracy:0.3606609469335875 \n",
            " Confusion Matrix - MODEL: rbf c = 10 gamma_ = auto\n",
            "[[   0  980    0]\n",
            " [   0 1135    0]\n",
            " [   0 1032    0]]\n",
            "Model with kernel rbf and parameters C = 10 and gamma = auto has  f1score:0.19119578457245295 \n",
            "\n",
            "Model with kernel rbf and parameters C = 10 and gamma = auto has  accuracy:0.3606609469335875 \n",
            " Confusion Matrix - MODEL: rbf c = 10 gamma_ = auto\n",
            "[[   0  980    0]\n",
            " [   0 1135    0]\n",
            " [   0 1032    0]]\n",
            "Model with kernel rbf and parameters C = 100 and gamma = scale has  f1score:0.995550497553937 \n",
            "\n",
            "Model with kernel rbf and parameters C = 100 and gamma = scale has  accuracy:0.9955513187162377 \n",
            " Confusion Matrix - MODEL: rbf c = 100 gamma_ = scale\n",
            "[[ 977    1    2]\n",
            " [   0 1132    3]\n",
            " [   6    2 1024]]\n",
            "Model with kernel rbf and parameters C = 100 and gamma = scale has  f1score:0.995550497553937 \n",
            "\n",
            "Model with kernel rbf and parameters C = 100 and gamma = scale has  accuracy:0.9955513187162377 \n",
            " Confusion Matrix - MODEL: rbf c = 100 gamma_ = scale\n",
            "[[ 977    1    2]\n",
            " [   0 1132    3]\n",
            " [   6    2 1024]]\n"
          ],
          "name": "stdout"
        }
      ]
    },
    {
      "cell_type": "markdown",
      "metadata": {
        "id": "TEnPkH-OS_Fa"
      },
      "source": [
        "### Observations:\n",
        "In this model where we used the `rbf` kernel the model performs with bad accuracy and f1 score for gamma = `auto` and as the c increases and the gamma=scale the model performed with high accuracy  "
      ]
    },
    {
      "cell_type": "markdown",
      "metadata": {
        "id": "GIZott2tGAxt"
      },
      "source": [
        "## Sigmoid Kernel:"
      ]
    },
    {
      "cell_type": "code",
      "metadata": {
        "colab": {
          "background_save": true,
          "base_uri": "https://localhost:8080/"
        },
        "id": "2HJRNGEHGC59",
        "outputId": "9b405fdc-b5b4-44b1-9311-bca64cb655e3"
      },
      "source": [
        "cm=model(\"sigmoid\")\r\n",
        "\r\n",
        "# confusion matrix for the last combination\r\n",
        "\r\n",
        "sns.heatmap(cm/np.sum(cm), annot=True, fmt='.2%', cmap='Blues')"
      ],
      "execution_count": null,
      "outputs": [
        {
          "output_type": "stream",
          "text": [
            "Model with kernel sigmoid and parameters C = 0.001 and gamma = scale has  f1score:0.9233493866375924 \n",
            "\n",
            "Model with kernel sigmoid and parameters C = 0.001 and gamma = scale has  accuracy:0.925007944073721 \n",
            " Confusion Matrix - MODEL: sigmoid c = 0.001 gamma_ = scale\n",
            "[[ 958    2   20]\n",
            " [   0 1130    5]\n",
            " [  41  168  823]]\n",
            "Model with kernel sigmoid and parameters C = 0.001 and gamma = auto has  f1score:0.19119578457245295 \n",
            "\n",
            "Model with kernel sigmoid and parameters C = 0.001 and gamma = auto has  accuracy:0.3606609469335875 \n",
            " Confusion Matrix - MODEL: sigmoid c = 0.001 gamma_ = auto\n",
            "[[   0  980    0]\n",
            " [   0 1135    0]\n",
            " [   0 1032    0]]\n",
            "Model with kernel sigmoid and parameters C = 0.01 and gamma = scale has  f1score:0.9770283616815221 \n",
            "\n",
            "Model with kernel sigmoid and parameters C = 0.01 and gamma = scale has  accuracy:0.9771210676835081 \n",
            " Confusion Matrix - MODEL: sigmoid c = 0.01 gamma_ = scale\n",
            "[[ 970    1    9]\n",
            " [   0 1125   10]\n",
            " [  27   25  980]]\n",
            "Model with kernel sigmoid and parameters C = 0.01 and gamma = auto has  f1score:0.19119578457245295 \n",
            "\n",
            "Model with kernel sigmoid and parameters C = 0.01 and gamma = auto has  accuracy:0.3606609469335875 \n",
            " Confusion Matrix - MODEL: sigmoid c = 0.01 gamma_ = auto\n",
            "[[   0  980    0]\n",
            " [   0 1135    0]\n",
            " [   0 1032    0]]\n",
            "Model with kernel sigmoid and parameters C = 0.1 and gamma = scale has  f1score:0.9570925423850374 \n",
            "\n",
            "Model with kernel sigmoid and parameters C = 0.1 and gamma = scale has  accuracy:0.9571020019065777 \n",
            " Confusion Matrix - MODEL: sigmoid c = 0.1 gamma_ = scale\n",
            "[[ 925    2   53]\n",
            " [   1 1122   12]\n",
            " [  55   12  965]]\n",
            "Model with kernel sigmoid and parameters C = 0.1 and gamma = auto has  f1score:0.19119578457245295 \n",
            "\n",
            "Model with kernel sigmoid and parameters C = 0.1 and gamma = auto has  accuracy:0.3606609469335875 \n",
            " Confusion Matrix - MODEL: sigmoid c = 0.1 gamma_ = auto\n",
            "[[   0  980    0]\n",
            " [   0 1135    0]\n",
            " [   0 1032    0]]\n",
            "Model with kernel sigmoid and parameters C = 1 and gamma = scale has  f1score:0.9502709362025765 \n",
            "\n",
            "Model with kernel sigmoid and parameters C = 1 and gamma = scale has  accuracy:0.9504289799809342 \n",
            " Confusion Matrix - MODEL: sigmoid c = 1 gamma_ = scale\n",
            "[[ 938    1   41]\n",
            " [   0 1110   25]\n",
            " [  46   43  943]]\n",
            "Model with kernel sigmoid and parameters C = 1 and gamma = auto has  f1score:0.19128512839701958 \n",
            "\n",
            "Model with kernel sigmoid and parameters C = 1 and gamma = auto has  accuracy:0.3606609469335875 \n",
            " Confusion Matrix - MODEL: sigmoid c = 1 gamma_ = auto\n",
            "[[   0  978    2]\n",
            " [   0 1135    0]\n",
            " [   0 1032    0]]\n",
            "Model with kernel sigmoid and parameters C = 10 and gamma = scale has  f1score:0.9379224454364168 \n",
            "\n",
            "Model with kernel sigmoid and parameters C = 10 and gamma = scale has  accuracy:0.9380362249761678 \n",
            " Confusion Matrix - MODEL: sigmoid c = 10 gamma_ = scale\n",
            "[[ 931    1   48]\n",
            " [   1 1093   41]\n",
            " [  55   49  928]]\n",
            "Model with kernel sigmoid and parameters C = 10 and gamma = auto has  f1score:0.191374555759524 \n",
            "\n",
            "Model with kernel sigmoid and parameters C = 10 and gamma = auto has  accuracy:0.3606609469335875 \n",
            " Confusion Matrix - MODEL: sigmoid c = 10 gamma_ = auto\n",
            "[[   0  976    4]\n",
            " [   0 1135    0]\n",
            " [   0 1032    0]]\n",
            "Model with kernel sigmoid and parameters C = 100 and gamma = scale has  f1score:0.9379243378451088 \n",
            "\n",
            "Model with kernel sigmoid and parameters C = 100 and gamma = scale has  accuracy:0.9380362249761678 \n",
            " Confusion Matrix - MODEL: sigmoid c = 100 gamma_ = scale\n",
            "[[ 932    1   47]\n",
            " [   1 1092   42]\n",
            " [  55   49  928]]\n",
            "Model with kernel sigmoid and parameters C = 100 and gamma = auto has  f1score:0.191374555759524 \n",
            "\n",
            "Model with kernel sigmoid and parameters C = 100 and gamma = auto has  accuracy:0.3606609469335875 \n",
            " Confusion Matrix - MODEL: sigmoid c = 100 gamma_ = auto\n",
            "[[   0  976    4]\n",
            " [   0 1135    0]\n",
            " [   0 1032    0]]\n",
            "Model with kernel sigmoid and parameters C = 0.001 and gamma = scale has  f1score:0.9233493866375924 \n",
            "\n",
            "Model with kernel sigmoid and parameters C = 0.001 and gamma = scale has  accuracy:0.925007944073721 \n",
            " Confusion Matrix - MODEL: sigmoid c = 0.001 gamma_ = scale\n",
            "[[ 958    2   20]\n",
            " [   0 1130    5]\n",
            " [  41  168  823]]\n",
            "Model with kernel sigmoid and parameters C = 0.001 and gamma = auto has  f1score:0.19119578457245295 \n",
            "\n",
            "Model with kernel sigmoid and parameters C = 0.001 and gamma = auto has  accuracy:0.3606609469335875 \n",
            " Confusion Matrix - MODEL: sigmoid c = 0.001 gamma_ = auto\n",
            "[[   0  980    0]\n",
            " [   0 1135    0]\n",
            " [   0 1032    0]]\n",
            "Model with kernel sigmoid and parameters C = 0.01 and gamma = scale has  f1score:0.9770283616815221 \n",
            "\n",
            "Model with kernel sigmoid and parameters C = 0.01 and gamma = scale has  accuracy:0.9771210676835081 \n",
            " Confusion Matrix - MODEL: sigmoid c = 0.01 gamma_ = scale\n",
            "[[ 970    1    9]\n",
            " [   0 1125   10]\n",
            " [  27   25  980]]\n",
            "Model with kernel sigmoid and parameters C = 0.01 and gamma = auto has  f1score:0.19119578457245295 \n",
            "\n",
            "Model with kernel sigmoid and parameters C = 0.01 and gamma = auto has  accuracy:0.3606609469335875 \n",
            " Confusion Matrix - MODEL: sigmoid c = 0.01 gamma_ = auto\n",
            "[[   0  980    0]\n",
            " [   0 1135    0]\n",
            " [   0 1032    0]]\n",
            "Model with kernel sigmoid and parameters C = 0.1 and gamma = scale has  f1score:0.9570925423850374 \n",
            "\n",
            "Model with kernel sigmoid and parameters C = 0.1 and gamma = scale has  accuracy:0.9571020019065777 \n",
            " Confusion Matrix - MODEL: sigmoid c = 0.1 gamma_ = scale\n",
            "[[ 925    2   53]\n",
            " [   1 1122   12]\n",
            " [  55   12  965]]\n",
            "Model with kernel sigmoid and parameters C = 0.1 and gamma = auto has  f1score:0.19119578457245295 \n",
            "\n",
            "Model with kernel sigmoid and parameters C = 0.1 and gamma = auto has  accuracy:0.3606609469335875 \n",
            " Confusion Matrix - MODEL: sigmoid c = 0.1 gamma_ = auto\n",
            "[[   0  980    0]\n",
            " [   0 1135    0]\n",
            " [   0 1032    0]]\n",
            "Model with kernel sigmoid and parameters C = 1 and gamma = scale has  f1score:0.9502709362025765 \n",
            "\n",
            "Model with kernel sigmoid and parameters C = 1 and gamma = scale has  accuracy:0.9504289799809342 \n",
            " Confusion Matrix - MODEL: sigmoid c = 1 gamma_ = scale\n",
            "[[ 938    1   41]\n",
            " [   0 1110   25]\n",
            " [  46   43  943]]\n",
            "Model with kernel sigmoid and parameters C = 1 and gamma = auto has  f1score:0.19128512839701958 \n",
            "\n",
            "Model with kernel sigmoid and parameters C = 1 and gamma = auto has  accuracy:0.3606609469335875 \n",
            " Confusion Matrix - MODEL: sigmoid c = 1 gamma_ = auto\n",
            "[[   0  978    2]\n",
            " [   0 1135    0]\n",
            " [   0 1032    0]]\n",
            "Model with kernel sigmoid and parameters C = 10 and gamma = scale has  f1score:0.9379224454364168 \n",
            "\n",
            "Model with kernel sigmoid and parameters C = 10 and gamma = scale has  accuracy:0.9380362249761678 \n",
            " Confusion Matrix - MODEL: sigmoid c = 10 gamma_ = scale\n",
            "[[ 931    1   48]\n",
            " [   1 1093   41]\n",
            " [  55   49  928]]\n",
            "Model with kernel sigmoid and parameters C = 10 and gamma = auto has  f1score:0.191374555759524 \n",
            "\n",
            "Model with kernel sigmoid and parameters C = 10 and gamma = auto has  accuracy:0.3606609469335875 \n",
            " Confusion Matrix - MODEL: sigmoid c = 10 gamma_ = auto\n",
            "[[   0  976    4]\n",
            " [   0 1135    0]\n",
            " [   0 1032    0]]\n",
            "Model with kernel sigmoid and parameters C = 100 and gamma = scale has  f1score:0.9379243378451088 \n",
            "\n",
            "Model with kernel sigmoid and parameters C = 100 and gamma = scale has  accuracy:0.9380362249761678 \n",
            " Confusion Matrix - MODEL: sigmoid c = 100 gamma_ = scale\n",
            "[[ 932    1   47]\n",
            " [   1 1092   42]\n",
            " [  55   49  928]]\n",
            "Model with kernel sigmoid and parameters C = 100 and gamma = auto has  f1score:0.191374555759524 \n",
            "\n",
            "Model with kernel sigmoid and parameters C = 100 and gamma = auto has  accuracy:0.3606609469335875 \n",
            " Confusion Matrix - MODEL: sigmoid c = 100 gamma_ = auto\n",
            "[[   0  976    4]\n",
            " [   0 1135    0]\n",
            " [   0 1032    0]]\n"
          ],
          "name": "stdout"
        },
        {
          "output_type": "execute_result",
          "data": {
            "text/plain": [
              "<matplotlib.axes._subplots.AxesSubplot at 0x7f2512f50410>"
            ]
          },
          "metadata": {
            "tags": []
          },
          "execution_count": 0
        },
        {
          "output_type": "display_data",
          "data": {
            "image/png": "[encoded data removed]",
            "text/plain": [
              "<Figure size 432x288 with 2 Axes>"
            ]
          },
          "metadata": {
            "tags": []
          }
        }
      ]
    },
    {
      "cell_type": "markdown",
      "metadata": {
        "id": "JzXRHKPzTWSS"
      },
      "source": [
        "### Observation:\n",
        "This model is also similar to the rbf kernel, it performed well for gamma=scale and for higher c values and the accuracy is not as good as other models as c increases"
      ]
    },
    {
      "cell_type": "code",
      "metadata": {
        "id": "TF9kKj09TnYE"
      },
      "source": [
        ""
      ],
      "execution_count": null,
      "outputs": []
    }
  ]
}