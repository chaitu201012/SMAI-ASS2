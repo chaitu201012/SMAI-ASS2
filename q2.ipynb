{
  "nbformat": 4,
  "nbformat_minor": 0,
  "metadata": {
    "kernelspec": {
      "display_name": "Python 3",
      "language": "python",
      "name": "python3"
    },
    "language_info": {
      "codemirror_mode": {
        "name": "ipython",
        "version": 3
      },
      "file_extension": ".py",
      "mimetype": "text/x-python",
      "name": "python",
      "nbconvert_exporter": "python",
      "pygments_lexer": "ipython3",
      "version": "3.7.6"
    },
    "colab": {
      "name": "question2.ipynb",
      "provenance": [],
      "collapsed_sections": [],
      "toc_visible": true
    }
  },
  "cells": [
    {
      "cell_type": "markdown",
      "metadata": {
        "id": "Sy7cxZJBovZS"
      },
      "source": [
        "You need to implement Logistic Regression from scratch in this question"
      ]
    },
    {
      "cell_type": "markdown",
      "metadata": {
        "id": "GA7V-O4sovZX"
      },
      "source": [
        "1. You are provided with the dataset of sign language digits. Implement logistic regression from scratch to classify the images provided in the dataset. Load the dataset and perform splitting into training and test sets with 70:30 ratio randomly using test train split.\n",
        "2. Plot a diagram for the sigmoid function. This is used for binary classi\u0000cation. How do you modify it for multilabel dataset classification problems? State and Explain the methods used.\n",
        "3. Use both one vs all and one vs one method for the above problem statement purpose.\n",
        "4. Also get results using Log Reg from scikit learn.\n",
        "5. Report accuracy score, Confusion matrix and any other metrics you feel useful and Compare the results - from all the three.\n",
        "\n",
        "\n",
        "\n",
        "[BONUS]\n",
        "6. Display few pictures with their predicted and original labels \n",
        "7. Do the results differ? State the reasons why it is so.\n"
      ]
    },
    {
      "cell_type": "markdown",
      "metadata": {
        "id": "ySnV5fPwovZY"
      },
      "source": [
        "dataset link : \n",
        "https://iiitaphyd-my.sharepoint.com/:f:/g/personal/apurva_jadhav_students_iiit_ac_in/Eictt5_qmoxNqezgQQiMWeIBph4sxlfA6jWAJNPnV2SF9Q?e=mQmYN0 \n",
        "\n",
        "                "
      ]
    },
    {
      "cell_type": "code",
      "metadata": {
        "id": "TXz4UC5SfWke"
      },
      "source": [
        "import numpy as np # linear algebra\r\n",
        "import pandas as pd # data processing, CSV file I/O (e.g. pd.read_csv)\r\n",
        "import matplotlib.pyplot as plt\r\n",
        "from sklearn.model_selection import train_test_split\r\n",
        "from sklearn.linear_model import LogisticRegression\r\n",
        "from numpy import e, log \r\n",
        "import seaborn as sns\r\n",
        "from itertools import combinations\r\n",
        "from sklearn.metrics import confusion_matrix\r\n",
        "from sklearn import metrics\r\n",
        "\r\n",
        "\r\n",
        "# import warnings\r\n",
        "import warnings\r\n",
        "# filter warnings\r\n",
        "warnings.filterwarnings('ignore')"
      ],
      "execution_count": null,
      "outputs": []
    },
    {
      "cell_type": "code",
      "metadata": {
        "colab": {
          "base_uri": "https://localhost:8080/"
        },
        "id": "tM3k5PX0ovZY",
        "outputId": "f0273fa1-8f85-4da4-a050-84b06e33b486"
      },
      "source": [
        "X = np.load(\"X.npy\") # image\n",
        "Y = np.load(\"Y.npy\") # label\n",
        "\n",
        "X_train, X_test, Y_train, Y_test = train_test_split(X, Y, test_size=0.30, random_state=42)\n",
        "number_of_train = X_train.shape[0]\n",
        "number_of_test = X_test.shape[0]\n",
        "\n",
        "print(number_of_train)\n",
        "print(number_of_test)\n",
        "print(\"X_train shape\",X_train.shape)\n",
        "print(\"X_train shape\",X_test.shape)\n",
        "print(\"y_train shape\",Y_train.shape)\n",
        "print(\"y_train shape\",Y_test.shape)"
      ],
      "execution_count": null,
      "outputs": [
        {
          "output_type": "stream",
          "text": [
            "1443\n",
            "619\n",
            "X_train shape (1443, 64, 64)\n",
            "X_train shape (619, 64, 64)\n",
            "y_train shape (1443, 10)\n",
            "y_train shape (619, 10)\n"
          ],
          "name": "stdout"
        }
      ]
    },
    {
      "cell_type": "code",
      "metadata": {
        "colab": {
          "base_uri": "https://localhost:8080/"
        },
        "id": "KKNwGzpufupk",
        "outputId": "14a9603d-2c92-44bb-c0a8-33eb931dc06e"
      },
      "source": [
        "X_train_flatten = X_train.reshape(number_of_train,X_train.shape[1]*X_train.shape[2])\r\n",
        "X_test_flatten = X_test .reshape(number_of_test,X_test.shape[1]*X_test.shape[2])\r\n",
        "print(\"X train flatten\",X_train_flatten.shape)\r\n",
        "print(\"X test flatten\",X_test_flatten.shape)\r\n",
        "\r\n",
        "'''\r\n",
        "X_train = X_train_flatten.T\r\n",
        "X_test = X_test_flatten.T\r\n",
        "'''\r\n",
        "\r\n",
        "print(Y_train[250,:])\r\n",
        "print(Y_train[890,:])\r\n",
        "\r\n",
        "X_train=X_train_flatten\r\n",
        "X_test=X_test_flatten"
      ],
      "execution_count": null,
      "outputs": [
        {
          "output_type": "stream",
          "text": [
            "X train flatten (1443, 4096)\n",
            "X test flatten (619, 4096)\n",
            "[0. 0. 0. 0. 0. 0. 0. 1. 0. 0.]\n",
            "[0. 0. 0. 0. 0. 1. 0. 0. 0. 0.]\n"
          ],
          "name": "stdout"
        }
      ]
    },
    {
      "cell_type": "code",
      "metadata": {
        "id": "aHPUESj5dTJ6"
      },
      "source": [
        "\"\"\" Reference :https://towardsdatascience.com/logistic-regression-from-scratch-69db4f587e17\r\n",
        "    some of the code is referred from the above website \"\"\"\r\n",
        "\r\n",
        "class LogReg:\r\n",
        "  \"\"\" ovr stands for one vs all or one vs rest and ovo stands for one vs one \"\"\"\r\n",
        "  def __init__(self,learning_rate=0.1,iterations=3000,epochs=20,classify=0,mode=\"ovr\",class1=0,class2=1):\r\n",
        "\r\n",
        "    self.theta=None\r\n",
        "    self.learning_rate=learning_rate\r\n",
        "    self.iterations=iterations\r\n",
        "    self.classify=classify \r\n",
        "    self.mode=mode\r\n",
        "    self.epochs=epochs\r\n",
        "    self.class1=class1\r\n",
        "    self.class2=class2\r\n",
        "    self.theta_classes=[]\r\n",
        "\r\n",
        "\r\n",
        "  def sigmoid(self,z):\r\n",
        "    return 1 / (1 + e**(-z))\r\n",
        "\r\n",
        "  def cost_func(self,X,y,theta):\r\n",
        "    \"\"\" computing likelihood cost \"\"\"\r\n",
        "    X=X.T\r\n",
        "    z=np.dot(theta,X)\r\n",
        "\r\n",
        "    pred_1=y*log(self.sigmoid(z))\r\n",
        "    pred_0=(1-y)*log(1-self.sigmoid(z))\r\n",
        "\r\n",
        "    return -sum(pred_1+pred_0)/len(X_train)\r\n",
        "\r\n",
        "  def initialise_theta(self,X):\r\n",
        "    theta=np.random.rand(1,X.shape[0])\r\n",
        "    self.theta=theta.reshape(1,X.shape[0])\r\n",
        "    for i in range(2):\r\n",
        "      theta=np.random.rand(1,X.shape[0])\r\n",
        "      self.theta_classes.append(theta.reshape(1,X.shape[0]))\r\n",
        "    self.theta_classes=np.array(self.theta_classes)\r\n",
        "    #print(\"inside: \",self.theta_classes )\r\n",
        "    \r\n",
        "\r\n",
        "  def fit(self,X,Y):\r\n",
        "    y=[]\r\n",
        "    X=X.T\r\n",
        "    self.initialise_theta(X)\r\n",
        "    if self.mode==\"ovr\":\r\n",
        "      if np.array(Y).ndim==1:\r\n",
        "          Y=np.array(Y).reshape(np.array(Y).shape[0],1)\r\n",
        "      y=[[1 if y[int(self.classify)]==1 else 0 for y in Y ]]\r\n",
        "      y=np.transpose(np.array(y))\r\n",
        "      for i in range(self.iterations):\r\n",
        "      \r\n",
        "        y_pred=self.sigmoid(np.dot(self.theta,X))\r\n",
        "        y_pred=np.transpose(np.array(y_pred))\r\n",
        "      \r\n",
        "        temp=np.dot(X,(y-y_pred)).T\r\n",
        "        self.theta+=(self.learning_rate*temp)/(X.shape[0])\r\n",
        "    if self.mode==\"ovo\":\r\n",
        "      list_classes=[self.class1,self.class2]\r\n",
        "      best_theta=self.theta\r\n",
        "      for s,cls in enumerate(list_classes):\r\n",
        "        if np.array(Y).ndim==1:\r\n",
        "          Y=np.array(Y).reshape(np.array(Y).shape[0],1)\r\n",
        "        y=[[1 if y[int(cls)]==1 else 0 for y in Y ]]\r\n",
        "        y=np.transpose(np.array(y))\r\n",
        "      ## here is a trouble that we need to perform each class individually and return two y_preds     \r\n",
        "        #for j in range(self.epochs):\r\n",
        "        for i in range(self.iterations):\r\n",
        "          \r\n",
        "          y_pred=self.sigmoid(np.dot(self.theta_classes[s],X))\r\n",
        "          y_pred=np.transpose(np.array(y_pred))\r\n",
        "        \r\n",
        "          temp=np.dot(X,(y-y_pred)).T\r\n",
        "          #print(\"inside loop:\",self.theta_classes )\r\n",
        "          self.theta_classes[s]+=(self.learning_rate*temp)/(X.shape[0])\r\n",
        "      \r\n",
        "\r\n",
        "  def predict(self, X):\r\n",
        "\r\n",
        "    #X=X.T\r\n",
        "    if self.mode==\"ovr\":\r\n",
        "      w=self.theta\r\n",
        "      y_pred = np.round(self.sigmoid(np.dot(X,w.T))).astype(int)\r\n",
        "      return y_pred\r\n",
        "    if self.mode==\"ovo\" or not (self.class1==0 and self.class2==0):\r\n",
        "      #print(\"I entered here\")\r\n",
        "      y_pred=[None]*2\r\n",
        "      for i in range(2):\r\n",
        "        w=self.theta_classes[i]\r\n",
        "        y_pred[i]=np.round(self.sigmoid(np.dot(X,w.T))).astype(int)\r\n",
        "      return y_pred\r\n",
        "\r\n"
      ],
      "execution_count": null,
      "outputs": []
    },
    {
      "cell_type": "markdown",
      "metadata": {
        "id": "nyojwNxZ6msl"
      },
      "source": [
        "# Implementing  one vs all model "
      ]
    },
    {
      "cell_type": "code",
      "metadata": {
        "colab": {
          "base_uri": "https://localhost:8080/"
        },
        "id": "sCuJH3jlgPT-",
        "outputId": "9c1a5d10-91a9-4829-df7b-e58bf07960b5"
      },
      "source": [
        "accuracies=[]\r\n",
        "max_score=0\r\n",
        "max_theta=[]\r\n",
        "for k in range(0,10):\r\n",
        "  \r\n",
        "  lg=LogReg(classify=k,mode=\"ovr\")\r\n",
        "  lg.fit(X_train,Y_train)\r\n",
        "  \"\"\" if k==9:\r\n",
        "    fig, (ax1, ax2) = plt.subplots(1, 2)\r\n",
        "    fig.suptitle('sigmoid plots for test and train ')\r\n",
        "\r\n",
        "    x=X_train\r\n",
        "    y=Y_train\r\n",
        "    ax1.plot(x, y)\r\n",
        "    ax1.set_title('Train data')\r\n",
        "  \"\"\"\r\n",
        "\r\n",
        "  y_pred=lg.predict(X_test)\r\n",
        "  \"\"\"\r\n",
        "  if k==9:\r\n",
        "    x=X_test\r\n",
        "    y=y_pred\r\n",
        "    ax2.plot(x, -y)\r\n",
        "    ax2.set_title('Test data')\r\n",
        "\r\n",
        "    plt.show()\r\n",
        "    \"\"\"\r\n",
        "\r\n",
        "  y=[[1 if y[k]==1 else 0 for y in Y_test ]]\r\n",
        "  y_test=np.transpose(np.array(y)) \r\n",
        "  \r\n",
        "  score=0\r\n",
        "  for i,j in zip(y_test,y_pred):\r\n",
        "    if i==j:\r\n",
        "      score+=1\r\n",
        "  print(\"Accuracy for class {} = {} % \".format(k,100*score/len(Y_test)))\r\n",
        "  cf_matrix = confusion_matrix(y_test, y_pred)\r\n",
        "\r\n",
        "  #sns.heatmap(cf_matrix/np.sum(cf_matrix), annot=True, fmt='.2%', cmap='Blues')\r\n",
        "  print(cf_matrix)\r\n",
        "  if k==0:\r\n",
        "    final_cf_matrix=cf_matrix\r\n",
        "  else:\r\n",
        "    final_cf_matrix+=cf_matrix\r\n",
        "    \r\n",
        "  #sns.heatmap(cf_matrix, annot=True)\r\n",
        "  \r\n",
        "\r\n",
        "  accuracies.append(100*score/len(Y_test)) \r\n",
        "  max_score,max_theta=score,lg.theta if score >= max_score else max_score\r\n",
        "\r\n",
        "#cf_matrix=final_cf_matrix\r\n",
        "#sns.heatmap(cf_matrix/np.sum(cf_matrix), annot=True, fmt='.2%', cmap='Blues')\r\n",
        "\r\n",
        "accuracies=np.array(accuracies)\r\n",
        "print(\"Mean accuracy of the model is {} \".format(np.mean(accuracies)))"
      ],
      "execution_count": null,
      "outputs": [
        {
          "output_type": "stream",
          "text": [
            "Accuracy for class 0 = 97.5767366720517 % \n",
            "[[558   6]\n",
            " [  9  46]]\n",
            "Accuracy for class 1 = 96.4458804523425 % \n",
            "[[545   4]\n",
            " [ 18  52]]\n",
            "Accuracy for class 2 = 89.33764135702747 % \n",
            "[[498  45]\n",
            " [ 21  55]]\n",
            "Accuracy for class 3 = 91.2762520193861 % \n",
            "[[553   3]\n",
            " [ 51  12]]\n",
            "Accuracy for class 4 = 94.50726978998385 % \n",
            "[[550  17]\n",
            " [ 17  35]]\n",
            "Accuracy for class 5 = 92.89176090468497 % \n",
            "[[555   9]\n",
            " [ 35  20]]\n",
            "Accuracy for class 6 = 89.49919224555735 % \n",
            "[[554   0]\n",
            " [ 65   0]]\n",
            "Accuracy for class 7 = 95.15347334410339 % \n",
            "[[538  19]\n",
            " [ 11  51]]\n",
            "Accuracy for class 8 = 91.59935379644588 % \n",
            "[[559   0]\n",
            " [ 52   8]]\n",
            "Accuracy for class 9 = 94.9919224555735 % \n",
            "[[543  15]\n",
            " [ 16  45]]\n",
            "Mean accuracy of the model is 93.32794830371567 \n"
          ],
          "name": "stdout"
        }
      ]
    },
    {
      "cell_type": "markdown",
      "metadata": {
        "id": "vnvyznDsFC3U"
      },
      "source": [
        "## Implementing one vs one "
      ]
    },
    {
      "cell_type": "code",
      "metadata": {
        "id": "PgutJS2oFCWe",
        "colab": {
          "base_uri": "https://localhost:8080/"
        },
        "outputId": "e6e6a255-2401-46b1-8b96-6dda3a9eca50"
      },
      "source": [
        "accuracies=[]\r\n",
        "max_score=0\r\n",
        "max_theta=[]\r\n",
        "\r\n",
        "r=2\r\n",
        "arr=[0,1,2,3,4,5,6,7,8,9]\r\n",
        "arr=list(combinations(arr, r))\r\n",
        "print(arr)\r\n",
        "\r\n",
        "for k in arr:\r\n",
        "  lgr=LogReg(mode=\"ovo\",class1=k[0],class2=k[1])\r\n",
        "  lgr.fit(X_train,Y_train)\r\n",
        "  y_pred=lgr.predict(X_test)\r\n",
        "  y_pred=np.array(y_pred)\r\n",
        "\r\n",
        "  #print(y_pred)\r\n",
        "\r\n",
        "  temp_acc_score=[]\r\n",
        "  for i,pred in enumerate(y_pred):\r\n",
        "    #if (i==2) : break\r\n",
        "    #print(pred)\r\n",
        "\r\n",
        "    y=[[1 if y[k[i]]==1 else 0 for y in Y_test ]]\r\n",
        "    y_test=np.transpose(np.array(y)) \r\n",
        "    \r\n",
        "    score=0\r\n",
        "    for i,j in zip(y_test,pred):\r\n",
        "      if i==j:\r\n",
        "        score+=1\r\n",
        "    temp_acc_score.append(100*score/len(Y_test))\r\n",
        "    #print(\"Accuracy for class {} = {} % \".format(k,100*score/len(Y_test)))\r\n",
        "    #cf_matrix = confusion_matrix(y_test, pred)\r\n",
        "\r\n",
        "    #sns.heatmap(cf_matrix/np.sum(cf_matrix), annot=True, fmt='.2%', cmap='Blues')\r\n",
        "    #print(cf_matrix)      \r\n",
        "    #sns.heatmap(cf_matrix, annot=True)\r\n",
        "  print(\"Mean of k[{}] vs k[{}] classifier is = {} \".format(k[0],k[1],np.mean(np.array(temp_acc_score))))\r\n",
        "  accuracies.append(np.mean(np.array(temp_acc_score))) \r\n",
        "  max_score,max_theta=score,lg.theta if score >= max_score else max_score\r\n",
        "\r\n",
        "#cf_matrix=final_cf_matrix\r\n",
        "#sns.heatmap(cf_matrix/np.sum(cf_matrix), annot=True, fmt='.2%', cmap='Blues')\r\n",
        "\r\n",
        "accuracies=np.array(accuracies)\r\n",
        "print(\"Mean accuracy of the model is {} \".format(np.mean(accuracies)))\r\n",
        "\r\n"
      ],
      "execution_count": null,
      "outputs": [
        {
          "output_type": "stream",
          "text": [
            "[(0, 1), (0, 2), (0, 3), (0, 4), (0, 5), (0, 6), (0, 7), (0, 8), (0, 9), (1, 2), (1, 3), (1, 4), (1, 5), (1, 6), (1, 7), (1, 8), (1, 9), (2, 3), (2, 4), (2, 5), (2, 6), (2, 7), (2, 8), (2, 9), (3, 4), (3, 5), (3, 6), (3, 7), (3, 8), (3, 9), (4, 5), (4, 6), (4, 7), (4, 8), (4, 9), (5, 6), (5, 7), (5, 8), (5, 9), (6, 7), (6, 8), (6, 9), (7, 8), (7, 9), (8, 9)]\n",
            "Mean of k[0] vs k[1] classifier is = 95.96122778675283 \n",
            "Mean of k[0] vs k[2] classifier is = 92.7302100161551 \n",
            "Mean of k[0] vs k[3] classifier is = 92.40710823909532 \n",
            "Mean of k[0] vs k[4] classifier is = 94.9919224555735 \n",
            "Mean of k[0] vs k[5] classifier is = 94.10339256865913 \n",
            "Mean of k[0] vs k[6] classifier is = 92.97253634894992 \n",
            "Mean of k[0] vs k[7] classifier is = 94.66882067851373 \n",
            "Mean of k[0] vs k[8] classifier is = 91.8416801292407 \n",
            "Mean of k[0] vs k[9] classifier is = 94.18416801292406 \n",
            "Mean of k[1] vs k[2] classifier is = 91.92245557350566 \n",
            "Mean of k[1] vs k[3] classifier is = 94.10339256865913 \n",
            "Mean of k[1] vs k[4] classifier is = 93.94184168012924 \n",
            "Mean of k[1] vs k[5] classifier is = 94.02261712439419 \n",
            "Mean of k[1] vs k[6] classifier is = 90.14539579967689 \n",
            "Mean of k[1] vs k[7] classifier is = 93.86106623586429 \n",
            "Mean of k[1] vs k[8] classifier is = 90.63004846526655 \n",
            "Mean of k[1] vs k[9] classifier is = 93.8610662358643 \n",
            "Mean of k[2] vs k[3] classifier is = 90.38772213247174 \n",
            "Mean of k[2] vs k[4] classifier is = 92.16478190630049 \n",
            "Mean of k[2] vs k[5] classifier is = 87.47980613893377 \n",
            "Mean of k[2] vs k[6] classifier is = 89.09531502423263 \n",
            "Mean of k[2] vs k[7] classifier is = 91.8416801292407 \n",
            "Mean of k[2] vs k[8] classifier is = 89.5799676898223 \n",
            "Mean of k[2] vs k[9] classifier is = 89.82229402261713 \n",
            "Mean of k[3] vs k[4] classifier is = 92.32633279483036 \n",
            "Mean of k[3] vs k[5] classifier is = 89.74151857835218 \n",
            "Mean of k[3] vs k[6] classifier is = 89.90306946688207 \n",
            "Mean of k[3] vs k[7] classifier is = 91.76090468497577 \n",
            "Mean of k[3] vs k[8] classifier is = 87.56058158319871 \n",
            "Mean of k[3] vs k[9] classifier is = 92.08400646203555 \n",
            "Mean of k[4] vs k[5] classifier is = 92.97253634894992 \n",
            "Mean of k[4] vs k[6] classifier is = 90.79159935379644 \n",
            "Mean of k[4] vs k[7] classifier is = 93.37641357027464 \n",
            "Mean of k[4] vs k[8] classifier is = 92.0032310177706 \n",
            "Mean of k[4] vs k[9] classifier is = 93.29563812600969 \n",
            "Mean of k[5] vs k[6] classifier is = 84.89499192245557 \n",
            "Mean of k[5] vs k[7] classifier is = 92.16478190630048 \n",
            "Mean of k[5] vs k[8] classifier is = 90.06462035541196 \n",
            "Mean of k[5] vs k[9] classifier is = 90.22617124394185 \n",
            "Mean of k[6] vs k[7] classifier is = 91.35702746365105 \n",
            "Mean of k[6] vs k[8] classifier is = 86.18739903069468 \n",
            "Mean of k[6] vs k[9] classifier is = 90.71082390953151 \n",
            "Mean of k[7] vs k[8] classifier is = 92.40710823909532 \n",
            "Mean of k[7] vs k[9] classifier is = 93.1340872374798 \n",
            "Mean of k[8] vs k[9] classifier is = 92.24555735056543 \n",
            "Mean accuracy of the model is 91.68730928020105 \n"
          ],
          "name": "stdout"
        }
      ]
    },
    {
      "cell_type": "markdown",
      "metadata": {
        "id": "Z7H0xWKBUq9I"
      },
      "source": [
        "### Observations:\n",
        "\n",
        "One vs one is producing high accuracy compared to the one vs all"
      ]
    },
    {
      "cell_type": "markdown",
      "metadata": {
        "id": "VFSleMEPmGZ3"
      },
      "source": [
        "## One Vs All using Scikit learn library"
      ]
    },
    {
      "cell_type": "code",
      "metadata": {
        "id": "S3uxrsUF85Sj"
      },
      "source": [
        "logisticRegr = LogisticRegression(multi_class=\"ovr\")"
      ],
      "execution_count": null,
      "outputs": []
    },
    {
      "cell_type": "code",
      "metadata": {
        "colab": {
          "base_uri": "https://localhost:8080/"
        },
        "id": "U2xPvvyvsQnX",
        "outputId": "acfb4086-8310-4a14-c9a8-ce779d1f30a9"
      },
      "source": [
        "# you need to make Y-trian and Y_test in the shape of (X_train/X_test.shape[0],)\r\n",
        "\r\n",
        "label_train= [ np.where(y==1.0) for y in Y_train]\r\n",
        "label_train=np.array(label_train)\r\n",
        "label_train=label_train.reshape(Y_train.shape[0],)\r\n",
        "print(np.shape(label_train))\r\n",
        "\r\n",
        "label_test= [ np.where(y==1.0) for y in Y_test]\r\n",
        "label_test=np.array(label_test)\r\n",
        "label_test=label_test.reshape(Y_test.shape[0],)\r\n",
        "print(np.shape(label_test))"
      ],
      "execution_count": null,
      "outputs": [
        {
          "output_type": "stream",
          "text": [
            "(1443,)\n",
            "(619,)\n"
          ],
          "name": "stdout"
        }
      ]
    },
    {
      "cell_type": "markdown",
      "metadata": {
        "id": "xnvlRGgYr8vK"
      },
      "source": [
        "#### preparing the Y_train data set for multi classa classification"
      ]
    },
    {
      "cell_type": "code",
      "metadata": {
        "colab": {
          "base_uri": "https://localhost:8080/"
        },
        "id": "fYBQeeIZmRlf",
        "outputId": "2aec7549-e88f-48bc-944c-1aa9ab854fc3"
      },
      "source": [
        "logisticRegr.fit(X_train, label_train)"
      ],
      "execution_count": null,
      "outputs": [
        {
          "output_type": "execute_result",
          "data": {
            "text/plain": [
              "LogisticRegression(C=1.0, class_weight=None, dual=False, fit_intercept=True,\n",
              "                   intercept_scaling=1, l1_ratio=None, max_iter=100,\n",
              "                   multi_class='ovr', n_jobs=None, penalty='l2',\n",
              "                   random_state=None, solver='lbfgs', tol=0.0001, verbose=0,\n",
              "                   warm_start=False)"
            ]
          },
          "metadata": {
            "tags": []
          },
          "execution_count": 29
        }
      ]
    },
    {
      "cell_type": "code",
      "metadata": {
        "id": "_NKRIzN7oDJp"
      },
      "source": [
        "predictions = logisticRegr.predict(X_test)"
      ],
      "execution_count": null,
      "outputs": []
    },
    {
      "cell_type": "code",
      "metadata": {
        "colab": {
          "base_uri": "https://localhost:8080/"
        },
        "id": "TP800GYRoD8k",
        "outputId": "caabe1d8-c5b4-47d1-ad1c-d3ddc1cd48ac"
      },
      "source": [
        "score = logisticRegr.score(X_test, label_test)\r\n",
        "print(score)"
      ],
      "execution_count": null,
      "outputs": [
        {
          "output_type": "stream",
          "text": [
            "0.7269789983844911\n"
          ],
          "name": "stdout"
        }
      ]
    },
    {
      "cell_type": "markdown",
      "metadata": {
        "id": "wfr60_12q1mp"
      },
      "source": [
        "#### The mean accuracy score of the model is 0.7269"
      ]
    },
    {
      "cell_type": "code",
      "metadata": {
        "colab": {
          "base_uri": "https://localhost:8080/",
          "height": 526
        },
        "id": "vpQzwGVCoVJ8",
        "outputId": "2cb04c4f-a4d8-40ed-eb00-c01af681a578"
      },
      "source": [
        "cm = metrics.confusion_matrix(label_test, predictions)\r\n",
        "plt.figure(figsize=(9,9))\r\n",
        "sns.heatmap(cm, annot=True, fmt=\".3f\", linewidths=.5, square = True, cmap = 'Blues_r');\r\n",
        "plt.ylabel('Actual label');\r\n",
        "plt.xlabel('Predicted label');\r\n",
        "all_sample_title = 'Accuracy Score: {0}'.format(score)\r\n",
        "plt.title(all_sample_title, size = 15);"
      ],
      "execution_count": null,
      "outputs": [
        {
          "output_type": "display_data",
          "data": {
            "image/png": "[encoded data removed]",
            "text/plain": [
              "<Figure size 648x648 with 2 Axes>"
            ]
          },
          "metadata": {
            "tags": [],
            "needs_background": "light"
          }
        }
      ]
    },
    {
      "cell_type": "markdown",
      "metadata": {
        "id": "EZYPZXajFcWr"
      },
      "source": [
        "### Implementing one vs one "
      ]
    },
    {
      "cell_type": "code",
      "metadata": {
        "id": "kCeKdu-Kq_Mt"
      },
      "source": [
        "logisticReg = LogisticRegression(multi_class=\"multinomial\")"
      ],
      "execution_count": null,
      "outputs": []
    },
    {
      "cell_type": "code",
      "metadata": {
        "colab": {
          "base_uri": "https://localhost:8080/"
        },
        "id": "uYsYmOo1GANA",
        "outputId": "0fc82ca3-4d88-4194-988f-558ecf718416"
      },
      "source": [
        "logisticReg.fit(X_train, label_train)"
      ],
      "execution_count": null,
      "outputs": [
        {
          "output_type": "execute_result",
          "data": {
            "text/plain": [
              "LogisticRegression(C=1.0, class_weight=None, dual=False, fit_intercept=True,\n",
              "                   intercept_scaling=1, l1_ratio=None, max_iter=100,\n",
              "                   multi_class='multinomial', n_jobs=None, penalty='l2',\n",
              "                   random_state=None, solver='lbfgs', tol=0.0001, verbose=0,\n",
              "                   warm_start=False)"
            ]
          },
          "metadata": {
            "tags": []
          },
          "execution_count": 43
        }
      ]
    },
    {
      "cell_type": "code",
      "metadata": {
        "id": "8CK8moCSFxXu"
      },
      "source": [
        "predictions = logisticReg.predict(X_test)"
      ],
      "execution_count": null,
      "outputs": []
    },
    {
      "cell_type": "code",
      "metadata": {
        "colab": {
          "base_uri": "https://localhost:8080/"
        },
        "id": "l39YyJGjFxX1",
        "outputId": "1c7a9d91-2fe3-4fba-8591-142967e8759c"
      },
      "source": [
        "score = logisticReg.score(X_test, label_test)\r\n",
        "print(score)"
      ],
      "execution_count": null,
      "outputs": [
        {
          "output_type": "stream",
          "text": [
            "0.7350565428109854\n"
          ],
          "name": "stdout"
        }
      ]
    },
    {
      "cell_type": "markdown",
      "metadata": {
        "id": "s1S60hvBq88s"
      },
      "source": [
        "#### The mean accuracy score of the model is 0.7350"
      ]
    },
    {
      "cell_type": "code",
      "metadata": {
        "colab": {
          "base_uri": "https://localhost:8080/",
          "height": 526
        },
        "id": "QCWovD5GFxX2",
        "outputId": "db85bae3-1126-4445-e517-18e5e84ea9d0"
      },
      "source": [
        "cm = metrics.confusion_matrix(label_test, predictions)\r\n",
        "plt.figure(figsize=(9,9))\r\n",
        "sns.heatmap(cm, annot=True, fmt=\".3f\", linewidths=.5, square = True, cmap = 'Blues_r');\r\n",
        "plt.ylabel('Actual label');\r\n",
        "plt.xlabel('Predicted label');\r\n",
        "all_sample_title = 'Accuracy Score: {0}'.format(score)\r\n",
        "plt.title(all_sample_title, size = 15);"
      ],
      "execution_count": null,
      "outputs": [
        {
          "output_type": "display_data",
          "data": {
            "image/png": "[encoded data removed]",
            "text/plain": [
              "<Figure size 648x648 with 2 Axes>"
            ]
          },
          "metadata": {
            "tags": [],
            "needs_background": "light"
          }
        }
      ]
    },
    {
      "cell_type": "markdown",
      "metadata": {
        "id": "8KS4-8d7uEtA"
      },
      "source": [
        "#### Observation:\n",
        "By using scikit learn also we get high accuracy for one vs one model than one vs all model"
      ]
    },
    {
      "cell_type": "code",
      "metadata": {
        "id": "5999z7l2uSyG"
      },
      "source": [
        ""
      ],
      "execution_count": null,
      "outputs": []
    }
  ]
}