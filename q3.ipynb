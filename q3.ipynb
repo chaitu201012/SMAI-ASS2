{
  "nbformat": 4,
  "nbformat_minor": 0,
  "metadata": {
    "kernelspec": {
      "display_name": "Python 3",
      "language": "python",
      "name": "python3"
    },
    "language_info": {
      "codemirror_mode": {
        "name": "ipython",
        "version": 3
      },
      "file_extension": ".py",
      "mimetype": "text/x-python",
      "name": "python",
      "nbconvert_exporter": "python",
      "pygments_lexer": "ipython3",
      "version": "3.7.6"
    },
    "colab": {
      "name": "question3.ipynb",
      "provenance": [],
      "collapsed_sections": [],
      "toc_visible": true
    }
  },
  "cells": [
    {
      "cell_type": "markdown",
      "metadata": {
        "id": "86RzGG7U5DLW"
      },
      "source": [
        "\n",
        "1. You are provided the titanic dataset. Load the dataset and perform splitting into training and test sets with 70:30 ratio randomly using test train split.\n",
        "2. Use the Logistic regression created from scratch (from the prev question) in this question as well.\n",
        "3. Data cleaning plays a major role in this question. Report all the methods used by you in the ipynb.\n",
        "\n",
        "--> \n",
        "\n",
        "i. Check for missing values\n",
        "\n",
        "ii. Drop Columns & Handle missing values\n",
        "\n",
        "iii. Create dummies for categorical features\n",
        "\n",
        "you are free to perform other data cleaning to improve your results.\n",
        "\n",
        "\n",
        "\n",
        "4. Report accuracy score, Confusion matrix, heat map, classifiaction report and any other metrics you feel useful."
      ]
    },
    {
      "cell_type": "markdown",
      "metadata": {
        "id": "hPlnQAJT5DLb"
      },
      "source": [
        "dataset link : \n",
        "https://iiitaphyd-my.sharepoint.com/:f:/g/personal/apurva_jadhav_students_iiit_ac_in/Eictt5_qmoxNqezgQQiMWeIBph4sxlfA6jWAJNPnV2SF9Q?e=mQmYN0 \n",
        "\n",
        "(titanic.csv)\n"
      ]
    },
    {
      "cell_type": "code",
      "metadata": {
        "id": "pgEUn69wQc44"
      },
      "source": [
        "import numpy as np # linear algebra\r\n",
        "import pandas as pd # data processing, CSV file I/O (e.g. pd.read_csv)\r\n",
        "import matplotlib.pyplot as plt\r\n",
        "from sklearn.model_selection import train_test_split\r\n",
        "from sklearn.linear_model import LogisticRegression\r\n",
        "from numpy import e, log \r\n",
        "import seaborn as sns\r\n",
        "from itertools import combinations\r\n",
        "from sklearn.metrics import confusion_matrix\r\n",
        "from sklearn.metrics import classification_report\r\n",
        "from sklearn import metrics\r\n",
        "\r\n",
        "\r\n",
        "# import warnings\r\n",
        "import warnings\r\n",
        "# filter warnings\r\n",
        "warnings.filterwarnings('ignore')"
      ],
      "execution_count": null,
      "outputs": []
    },
    {
      "cell_type": "code",
      "metadata": {
        "id": "Fr7SfYzC5DLc"
      },
      "source": [
        "df = pd.read_csv('titanic.csv')\r\n"
      ],
      "execution_count": null,
      "outputs": []
    },
    {
      "cell_type": "code",
      "metadata": {
        "colab": {
          "base_uri": "https://localhost:8080/"
        },
        "id": "aMb4uUizQiou",
        "outputId": "94d4db05-c346-48e8-9e11-3451af704e9a"
      },
      "source": [
        "\r\n",
        "df.info()"
      ],
      "execution_count": null,
      "outputs": [
        {
          "output_type": "stream",
          "text": [
            "<class 'pandas.core.frame.DataFrame'>\n",
            "RangeIndex: 891 entries, 0 to 890\n",
            "Data columns (total 12 columns):\n",
            " #   Column       Non-Null Count  Dtype  \n",
            "---  ------       --------------  -----  \n",
            " 0   PassengerId  891 non-null    int64  \n",
            " 1   Survived     891 non-null    int64  \n",
            " 2   Pclass       891 non-null    int64  \n",
            " 3   Name         891 non-null    object \n",
            " 4   Sex          891 non-null    object \n",
            " 5   Age          714 non-null    float64\n",
            " 6   SibSp        891 non-null    int64  \n",
            " 7   Parch        891 non-null    int64  \n",
            " 8   Ticket       891 non-null    object \n",
            " 9   Fare         891 non-null    float64\n",
            " 10  Cabin        204 non-null    object \n",
            " 11  Embarked     889 non-null    object \n",
            "dtypes: float64(2), int64(5), object(5)\n",
            "memory usage: 83.7+ KB\n"
          ],
          "name": "stdout"
        }
      ]
    },
    {
      "cell_type": "code",
      "metadata": {
        "id": "MGn4YqU6QU2e",
        "colab": {
          "base_uri": "https://localhost:8080/",
          "height": 286
        },
        "outputId": "5ede93ee-6d61-4467-8368-3423cdedd8a6"
      },
      "source": [
        "df.describe()"
      ],
      "execution_count": null,
      "outputs": [
        {
          "output_type": "execute_result",
          "data": {
            "text/html": [
              "<div>\n",
              "<style scoped>\n",
              "    .dataframe tbody tr th:only-of-type {\n",
              "        vertical-align: middle;\n",
              "    }\n",
              "\n",
              "    .dataframe tbody tr th {\n",
              "        vertical-align: top;\n",
              "    }\n",
              "\n",
              "    .dataframe thead th {\n",
              "        text-align: right;\n",
              "    }\n",
              "</style>\n",
              "<table border=\"1\" class=\"dataframe\">\n",
              "  <thead>\n",
              "    <tr style=\"text-align: right;\">\n",
              "      <th></th>\n",
              "      <th>PassengerId</th>\n",
              "      <th>Survived</th>\n",
              "      <th>Pclass</th>\n",
              "      <th>Age</th>\n",
              "      <th>SibSp</th>\n",
              "      <th>Parch</th>\n",
              "      <th>Fare</th>\n",
              "    </tr>\n",
              "  </thead>\n",
              "  <tbody>\n",
              "    <tr>\n",
              "      <th>count</th>\n",
              "      <td>891.000000</td>\n",
              "      <td>891.000000</td>\n",
              "      <td>891.000000</td>\n",
              "      <td>714.000000</td>\n",
              "      <td>891.000000</td>\n",
              "      <td>891.000000</td>\n",
              "      <td>891.000000</td>\n",
              "    </tr>\n",
              "    <tr>\n",
              "      <th>mean</th>\n",
              "      <td>446.000000</td>\n",
              "      <td>0.383838</td>\n",
              "      <td>2.308642</td>\n",
              "      <td>29.699118</td>\n",
              "      <td>0.523008</td>\n",
              "      <td>0.381594</td>\n",
              "      <td>32.204208</td>\n",
              "    </tr>\n",
              "    <tr>\n",
              "      <th>std</th>\n",
              "      <td>257.353842</td>\n",
              "      <td>0.486592</td>\n",
              "      <td>0.836071</td>\n",
              "      <td>14.526497</td>\n",
              "      <td>1.102743</td>\n",
              "      <td>0.806057</td>\n",
              "      <td>49.693429</td>\n",
              "    </tr>\n",
              "    <tr>\n",
              "      <th>min</th>\n",
              "      <td>1.000000</td>\n",
              "      <td>0.000000</td>\n",
              "      <td>1.000000</td>\n",
              "      <td>0.420000</td>\n",
              "      <td>0.000000</td>\n",
              "      <td>0.000000</td>\n",
              "      <td>0.000000</td>\n",
              "    </tr>\n",
              "    <tr>\n",
              "      <th>25%</th>\n",
              "      <td>223.500000</td>\n",
              "      <td>0.000000</td>\n",
              "      <td>2.000000</td>\n",
              "      <td>20.125000</td>\n",
              "      <td>0.000000</td>\n",
              "      <td>0.000000</td>\n",
              "      <td>7.910400</td>\n",
              "    </tr>\n",
              "    <tr>\n",
              "      <th>50%</th>\n",
              "      <td>446.000000</td>\n",
              "      <td>0.000000</td>\n",
              "      <td>3.000000</td>\n",
              "      <td>28.000000</td>\n",
              "      <td>0.000000</td>\n",
              "      <td>0.000000</td>\n",
              "      <td>14.454200</td>\n",
              "    </tr>\n",
              "    <tr>\n",
              "      <th>75%</th>\n",
              "      <td>668.500000</td>\n",
              "      <td>1.000000</td>\n",
              "      <td>3.000000</td>\n",
              "      <td>38.000000</td>\n",
              "      <td>1.000000</td>\n",
              "      <td>0.000000</td>\n",
              "      <td>31.000000</td>\n",
              "    </tr>\n",
              "    <tr>\n",
              "      <th>max</th>\n",
              "      <td>891.000000</td>\n",
              "      <td>1.000000</td>\n",
              "      <td>3.000000</td>\n",
              "      <td>80.000000</td>\n",
              "      <td>8.000000</td>\n",
              "      <td>6.000000</td>\n",
              "      <td>512.329200</td>\n",
              "    </tr>\n",
              "  </tbody>\n",
              "</table>\n",
              "</div>"
            ],
            "text/plain": [
              "       PassengerId    Survived      Pclass  ...       SibSp       Parch        Fare\n",
              "count   891.000000  891.000000  891.000000  ...  891.000000  891.000000  891.000000\n",
              "mean    446.000000    0.383838    2.308642  ...    0.523008    0.381594   32.204208\n",
              "std     257.353842    0.486592    0.836071  ...    1.102743    0.806057   49.693429\n",
              "min       1.000000    0.000000    1.000000  ...    0.000000    0.000000    0.000000\n",
              "25%     223.500000    0.000000    2.000000  ...    0.000000    0.000000    7.910400\n",
              "50%     446.000000    0.000000    3.000000  ...    0.000000    0.000000   14.454200\n",
              "75%     668.500000    1.000000    3.000000  ...    1.000000    0.000000   31.000000\n",
              "max     891.000000    1.000000    3.000000  ...    8.000000    6.000000  512.329200\n",
              "\n",
              "[8 rows x 7 columns]"
            ]
          },
          "metadata": {
            "tags": []
          },
          "execution_count": 17
        }
      ]
    },
    {
      "cell_type": "code",
      "metadata": {
        "colab": {
          "base_uri": "https://localhost:8080/",
          "height": 197
        },
        "id": "l_2xh84LPTht",
        "outputId": "79d1122e-f6bf-4b54-eae9-6515de3d4ed1"
      },
      "source": [
        "df.head()"
      ],
      "execution_count": null,
      "outputs": [
        {
          "output_type": "execute_result",
          "data": {
            "text/html": [
              "<div>\n",
              "<style scoped>\n",
              "    .dataframe tbody tr th:only-of-type {\n",
              "        vertical-align: middle;\n",
              "    }\n",
              "\n",
              "    .dataframe tbody tr th {\n",
              "        vertical-align: top;\n",
              "    }\n",
              "\n",
              "    .dataframe thead th {\n",
              "        text-align: right;\n",
              "    }\n",
              "</style>\n",
              "<table border=\"1\" class=\"dataframe\">\n",
              "  <thead>\n",
              "    <tr style=\"text-align: right;\">\n",
              "      <th></th>\n",
              "      <th>PassengerId</th>\n",
              "      <th>Survived</th>\n",
              "      <th>Pclass</th>\n",
              "      <th>Name</th>\n",
              "      <th>Sex</th>\n",
              "      <th>Age</th>\n",
              "      <th>SibSp</th>\n",
              "      <th>Parch</th>\n",
              "      <th>Ticket</th>\n",
              "      <th>Fare</th>\n",
              "      <th>Cabin</th>\n",
              "      <th>Embarked</th>\n",
              "    </tr>\n",
              "  </thead>\n",
              "  <tbody>\n",
              "    <tr>\n",
              "      <th>0</th>\n",
              "      <td>1</td>\n",
              "      <td>0</td>\n",
              "      <td>3</td>\n",
              "      <td>Braund, Mr. Owen Harris</td>\n",
              "      <td>male</td>\n",
              "      <td>22.0</td>\n",
              "      <td>1</td>\n",
              "      <td>0</td>\n",
              "      <td>A/5 21171</td>\n",
              "      <td>7.2500</td>\n",
              "      <td>NaN</td>\n",
              "      <td>S</td>\n",
              "    </tr>\n",
              "    <tr>\n",
              "      <th>1</th>\n",
              "      <td>2</td>\n",
              "      <td>1</td>\n",
              "      <td>1</td>\n",
              "      <td>Cumings, Mrs. John Bradley (Florence Briggs Th...</td>\n",
              "      <td>female</td>\n",
              "      <td>38.0</td>\n",
              "      <td>1</td>\n",
              "      <td>0</td>\n",
              "      <td>PC 17599</td>\n",
              "      <td>71.2833</td>\n",
              "      <td>C85</td>\n",
              "      <td>C</td>\n",
              "    </tr>\n",
              "    <tr>\n",
              "      <th>2</th>\n",
              "      <td>3</td>\n",
              "      <td>1</td>\n",
              "      <td>3</td>\n",
              "      <td>Heikkinen, Miss. Laina</td>\n",
              "      <td>female</td>\n",
              "      <td>26.0</td>\n",
              "      <td>0</td>\n",
              "      <td>0</td>\n",
              "      <td>STON/O2. 3101282</td>\n",
              "      <td>7.9250</td>\n",
              "      <td>NaN</td>\n",
              "      <td>S</td>\n",
              "    </tr>\n",
              "    <tr>\n",
              "      <th>3</th>\n",
              "      <td>4</td>\n",
              "      <td>1</td>\n",
              "      <td>1</td>\n",
              "      <td>Futrelle, Mrs. Jacques Heath (Lily May Peel)</td>\n",
              "      <td>female</td>\n",
              "      <td>35.0</td>\n",
              "      <td>1</td>\n",
              "      <td>0</td>\n",
              "      <td>113803</td>\n",
              "      <td>53.1000</td>\n",
              "      <td>C123</td>\n",
              "      <td>S</td>\n",
              "    </tr>\n",
              "    <tr>\n",
              "      <th>4</th>\n",
              "      <td>5</td>\n",
              "      <td>0</td>\n",
              "      <td>3</td>\n",
              "      <td>Allen, Mr. William Henry</td>\n",
              "      <td>male</td>\n",
              "      <td>35.0</td>\n",
              "      <td>0</td>\n",
              "      <td>0</td>\n",
              "      <td>373450</td>\n",
              "      <td>8.0500</td>\n",
              "      <td>NaN</td>\n",
              "      <td>S</td>\n",
              "    </tr>\n",
              "  </tbody>\n",
              "</table>\n",
              "</div>"
            ],
            "text/plain": [
              "   PassengerId  Survived  Pclass  ...     Fare Cabin  Embarked\n",
              "0            1         0       3  ...   7.2500   NaN         S\n",
              "1            2         1       1  ...  71.2833   C85         C\n",
              "2            3         1       3  ...   7.9250   NaN         S\n",
              "3            4         1       1  ...  53.1000  C123         S\n",
              "4            5         0       3  ...   8.0500   NaN         S\n",
              "\n",
              "[5 rows x 12 columns]"
            ]
          },
          "metadata": {
            "tags": []
          },
          "execution_count": 18
        }
      ]
    },
    {
      "cell_type": "markdown",
      "metadata": {
        "id": "A5fKVazEQyfM"
      },
      "source": [
        "#### we can clear see from the information of the data set that there are some null vallues(`NAN`) in certain columns such as `Age, cabin, Embarked`"
      ]
    },
    {
      "cell_type": "code",
      "metadata": {
        "colab": {
          "base_uri": "https://localhost:8080/",
          "height": 197
        },
        "id": "8QxtxIelSAot",
        "outputId": "d6e81016-7d20-4233-c510-59db90f32666"
      },
      "source": [
        "## Reference :https://towardsdatascience.com/predicting-the-survival-of-titanic-passengers-30870ccc7e8\r\n",
        "total = df.isnull().sum().sort_values(ascending=False)\r\n",
        "percent_1 = df.isnull().sum()/df.isnull().count()*100\r\n",
        "percent_2 = (round(percent_1, 1)).sort_values(ascending=False)\r\n",
        "missing_data = pd.concat([total, percent_2], axis=1, keys=['Total', '%'])\r\n",
        "missing_data.head(5)"
      ],
      "execution_count": null,
      "outputs": [
        {
          "output_type": "execute_result",
          "data": {
            "text/html": [
              "<div>\n",
              "<style scoped>\n",
              "    .dataframe tbody tr th:only-of-type {\n",
              "        vertical-align: middle;\n",
              "    }\n",
              "\n",
              "    .dataframe tbody tr th {\n",
              "        vertical-align: top;\n",
              "    }\n",
              "\n",
              "    .dataframe thead th {\n",
              "        text-align: right;\n",
              "    }\n",
              "</style>\n",
              "<table border=\"1\" class=\"dataframe\">\n",
              "  <thead>\n",
              "    <tr style=\"text-align: right;\">\n",
              "      <th></th>\n",
              "      <th>Total</th>\n",
              "      <th>%</th>\n",
              "    </tr>\n",
              "  </thead>\n",
              "  <tbody>\n",
              "    <tr>\n",
              "      <th>Cabin</th>\n",
              "      <td>687</td>\n",
              "      <td>77.1</td>\n",
              "    </tr>\n",
              "    <tr>\n",
              "      <th>Age</th>\n",
              "      <td>177</td>\n",
              "      <td>19.9</td>\n",
              "    </tr>\n",
              "    <tr>\n",
              "      <th>Embarked</th>\n",
              "      <td>2</td>\n",
              "      <td>0.2</td>\n",
              "    </tr>\n",
              "    <tr>\n",
              "      <th>Fare</th>\n",
              "      <td>0</td>\n",
              "      <td>0.0</td>\n",
              "    </tr>\n",
              "    <tr>\n",
              "      <th>Ticket</th>\n",
              "      <td>0</td>\n",
              "      <td>0.0</td>\n",
              "    </tr>\n",
              "  </tbody>\n",
              "</table>\n",
              "</div>"
            ],
            "text/plain": [
              "          Total     %\n",
              "Cabin       687  77.1\n",
              "Age         177  19.9\n",
              "Embarked      2   0.2\n",
              "Fare          0   0.0\n",
              "Ticket        0   0.0"
            ]
          },
          "metadata": {
            "tags": []
          },
          "execution_count": 19
        }
      ]
    },
    {
      "cell_type": "markdown",
      "metadata": {
        "id": "WXl3MSwSN033"
      },
      "source": [
        "#### We can remove cabin feature entirely since it contains many null values, so it will not contribute much to our model  since almost around 77 percent are missing. For the remaining we need to fill with some values"
      ]
    },
    {
      "cell_type": "markdown",
      "metadata": {
        "id": "BnCOuWK0P9LJ"
      },
      "source": [
        "### A  lot of the features were categorical. So, we need to encode then before we proceed to the model"
      ]
    },
    {
      "cell_type": "code",
      "metadata": {
        "colab": {
          "base_uri": "https://localhost:8080/"
        },
        "id": "5xN_Uq-7PEJt",
        "outputId": "f2a25a59-e420-4c65-bf53-3ba44548bd33"
      },
      "source": [
        "headers=df.columns.values\r\n",
        "print(headers)"
      ],
      "execution_count": null,
      "outputs": [
        {
          "output_type": "stream",
          "text": [
            "['PassengerId' 'Survived' 'Pclass' 'Name' 'Sex' 'Age' 'SibSp' 'Parch'\n",
            " 'Ticket' 'Fare' 'Cabin' 'Embarked']\n"
          ],
          "name": "stdout"
        }
      ]
    },
    {
      "cell_type": "markdown",
      "metadata": {
        "id": "_iEmz6I5UByD"
      },
      "source": [
        "### From the above header information we can assume that passenger id , ticket and Name almost unique to each individual and doesnot play any role in classifying whether the person survived or not ,it is difficult to convert some of the categorical data like name and Tickets to integer data is difficult(a large number os categories is undesirable ).  SO, we can safely drop those features from our dataset "
      ]
    },
    {
      "cell_type": "code",
      "metadata": {
        "colab": {
          "base_uri": "https://localhost:8080/"
        },
        "id": "8jz3Y0ZzVEVp",
        "outputId": "cbc7cf17-c0d1-43e8-ab59-384ce49a89d9"
      },
      "source": [
        "cols=['PassengerId','Name','Ticket','Cabin']\r\n",
        "df=df.drop(cols,axis=1)\r\n",
        "df.info()"
      ],
      "execution_count": null,
      "outputs": [
        {
          "output_type": "stream",
          "text": [
            "<class 'pandas.core.frame.DataFrame'>\n",
            "RangeIndex: 891 entries, 0 to 890\n",
            "Data columns (total 8 columns):\n",
            " #   Column    Non-Null Count  Dtype  \n",
            "---  ------    --------------  -----  \n",
            " 0   Survived  891 non-null    int64  \n",
            " 1   Pclass    891 non-null    int64  \n",
            " 2   Sex       891 non-null    object \n",
            " 3   Age       714 non-null    float64\n",
            " 4   SibSp     891 non-null    int64  \n",
            " 5   Parch     891 non-null    int64  \n",
            " 6   Fare      891 non-null    float64\n",
            " 7   Embarked  889 non-null    object \n",
            "dtypes: float64(2), int64(4), object(2)\n",
            "memory usage: 55.8+ KB\n"
          ],
          "name": "stdout"
        }
      ]
    },
    {
      "cell_type": "markdown",
      "metadata": {
        "id": "vyJXFb58dAlq"
      },
      "source": [
        "### from the above we can see that Age has only 714 values as non-null and the remaining are NAN. So we will try to fill those values using interpolate function "
      ]
    },
    {
      "cell_type": "code",
      "metadata": {
        "colab": {
          "base_uri": "https://localhost:8080/"
        },
        "id": "MY-e4X4Doeei",
        "outputId": "56847d71-e440-4db9-f4bb-dc34e5f16458"
      },
      "source": [
        "df['Age'] = df['Age'].interpolate()\r\n",
        "df.info()"
      ],
      "execution_count": null,
      "outputs": [
        {
          "output_type": "stream",
          "text": [
            "<class 'pandas.core.frame.DataFrame'>\n",
            "RangeIndex: 891 entries, 0 to 890\n",
            "Data columns (total 8 columns):\n",
            " #   Column    Non-Null Count  Dtype  \n",
            "---  ------    --------------  -----  \n",
            " 0   Survived  891 non-null    int64  \n",
            " 1   Pclass    891 non-null    int64  \n",
            " 2   Sex       891 non-null    object \n",
            " 3   Age       891 non-null    float64\n",
            " 4   SibSp     891 non-null    int64  \n",
            " 5   Parch     891 non-null    int64  \n",
            " 6   Fare      891 non-null    float64\n",
            " 7   Embarked  889 non-null    object \n",
            "dtypes: float64(2), int64(4), object(2)\n",
            "memory usage: 55.8+ KB\n"
          ],
          "name": "stdout"
        }
      ]
    },
    {
      "cell_type": "code",
      "metadata": {
        "colab": {
          "base_uri": "https://localhost:8080/",
          "height": 286
        },
        "id": "JvCmojhNc8rU",
        "outputId": "a9bac386-ded5-46fc-bfd9-fa9aac9df7bd"
      },
      "source": [
        "df.describe()"
      ],
      "execution_count": null,
      "outputs": [
        {
          "output_type": "execute_result",
          "data": {
            "text/html": [
              "<div>\n",
              "<style scoped>\n",
              "    .dataframe tbody tr th:only-of-type {\n",
              "        vertical-align: middle;\n",
              "    }\n",
              "\n",
              "    .dataframe tbody tr th {\n",
              "        vertical-align: top;\n",
              "    }\n",
              "\n",
              "    .dataframe thead th {\n",
              "        text-align: right;\n",
              "    }\n",
              "</style>\n",
              "<table border=\"1\" class=\"dataframe\">\n",
              "  <thead>\n",
              "    <tr style=\"text-align: right;\">\n",
              "      <th></th>\n",
              "      <th>Survived</th>\n",
              "      <th>Pclass</th>\n",
              "      <th>Age</th>\n",
              "      <th>SibSp</th>\n",
              "      <th>Parch</th>\n",
              "      <th>Fare</th>\n",
              "    </tr>\n",
              "  </thead>\n",
              "  <tbody>\n",
              "    <tr>\n",
              "      <th>count</th>\n",
              "      <td>891.000000</td>\n",
              "      <td>891.000000</td>\n",
              "      <td>891.000000</td>\n",
              "      <td>891.000000</td>\n",
              "      <td>891.000000</td>\n",
              "      <td>891.000000</td>\n",
              "    </tr>\n",
              "    <tr>\n",
              "      <th>mean</th>\n",
              "      <td>0.383838</td>\n",
              "      <td>2.308642</td>\n",
              "      <td>29.726061</td>\n",
              "      <td>0.523008</td>\n",
              "      <td>0.381594</td>\n",
              "      <td>32.204208</td>\n",
              "    </tr>\n",
              "    <tr>\n",
              "      <th>std</th>\n",
              "      <td>0.486592</td>\n",
              "      <td>0.836071</td>\n",
              "      <td>13.902353</td>\n",
              "      <td>1.102743</td>\n",
              "      <td>0.806057</td>\n",
              "      <td>49.693429</td>\n",
              "    </tr>\n",
              "    <tr>\n",
              "      <th>min</th>\n",
              "      <td>0.000000</td>\n",
              "      <td>1.000000</td>\n",
              "      <td>0.420000</td>\n",
              "      <td>0.000000</td>\n",
              "      <td>0.000000</td>\n",
              "      <td>0.000000</td>\n",
              "    </tr>\n",
              "    <tr>\n",
              "      <th>25%</th>\n",
              "      <td>0.000000</td>\n",
              "      <td>2.000000</td>\n",
              "      <td>21.000000</td>\n",
              "      <td>0.000000</td>\n",
              "      <td>0.000000</td>\n",
              "      <td>7.910400</td>\n",
              "    </tr>\n",
              "    <tr>\n",
              "      <th>50%</th>\n",
              "      <td>0.000000</td>\n",
              "      <td>3.000000</td>\n",
              "      <td>28.500000</td>\n",
              "      <td>0.000000</td>\n",
              "      <td>0.000000</td>\n",
              "      <td>14.454200</td>\n",
              "    </tr>\n",
              "    <tr>\n",
              "      <th>75%</th>\n",
              "      <td>1.000000</td>\n",
              "      <td>3.000000</td>\n",
              "      <td>38.000000</td>\n",
              "      <td>1.000000</td>\n",
              "      <td>0.000000</td>\n",
              "      <td>31.000000</td>\n",
              "    </tr>\n",
              "    <tr>\n",
              "      <th>max</th>\n",
              "      <td>1.000000</td>\n",
              "      <td>3.000000</td>\n",
              "      <td>80.000000</td>\n",
              "      <td>8.000000</td>\n",
              "      <td>6.000000</td>\n",
              "      <td>512.329200</td>\n",
              "    </tr>\n",
              "  </tbody>\n",
              "</table>\n",
              "</div>"
            ],
            "text/plain": [
              "         Survived      Pclass         Age       SibSp       Parch        Fare\n",
              "count  891.000000  891.000000  891.000000  891.000000  891.000000  891.000000\n",
              "mean     0.383838    2.308642   29.726061    0.523008    0.381594   32.204208\n",
              "std      0.486592    0.836071   13.902353    1.102743    0.806057   49.693429\n",
              "min      0.000000    1.000000    0.420000    0.000000    0.000000    0.000000\n",
              "25%      0.000000    2.000000   21.000000    0.000000    0.000000    7.910400\n",
              "50%      0.000000    3.000000   28.500000    0.000000    0.000000   14.454200\n",
              "75%      1.000000    3.000000   38.000000    1.000000    0.000000   31.000000\n",
              "max      1.000000    3.000000   80.000000    8.000000    6.000000  512.329200"
            ]
          },
          "metadata": {
            "tags": []
          },
          "execution_count": 23
        }
      ]
    },
    {
      "cell_type": "markdown",
      "metadata": {
        "id": "jXF8DjdvZzvI"
      },
      "source": [
        "#### It is clear that we need to convert the categorical features(sex,Embarked ) to numerical values we can do it by mapping them to some unique values or we can generate dummies using pandas function. We'll create dummies in this since it increases dimensions also "
      ]
    },
    {
      "cell_type": "code",
      "metadata": {
        "id": "_4X1vRdIcnVQ"
      },
      "source": [
        "dummies = []\r\n",
        "cols = ['Sex', 'Embarked']\r\n",
        "for col in cols:\r\n",
        "    dummies.append(pd.get_dummies(df[col]))"
      ],
      "execution_count": null,
      "outputs": []
    },
    {
      "cell_type": "code",
      "metadata": {
        "id": "lbuNnceOcpx4"
      },
      "source": [
        "titanic_dummies = pd.concat(dummies, axis=1)\r\n",
        "df = pd.concat((df,titanic_dummies), axis=1)"
      ],
      "execution_count": null,
      "outputs": []
    },
    {
      "cell_type": "markdown",
      "metadata": {
        "id": "a_Ho5QosplQW"
      },
      "source": [
        "### Dropping the categorical columns since we already creates the dummies for them"
      ]
    },
    {
      "cell_type": "code",
      "metadata": {
        "id": "-q5g4AITpgN-"
      },
      "source": [
        "df = df.drop(['Pclass', 'Sex', 'Embarked'], axis=1)"
      ],
      "execution_count": null,
      "outputs": []
    },
    {
      "cell_type": "code",
      "metadata": {
        "colab": {
          "base_uri": "https://localhost:8080/"
        },
        "id": "Waq3oaUXpvyT",
        "outputId": "dcf11fee-527a-4c1b-cadb-d81cfe0494ff"
      },
      "source": [
        "df.info()"
      ],
      "execution_count": null,
      "outputs": [
        {
          "output_type": "stream",
          "text": [
            "<class 'pandas.core.frame.DataFrame'>\n",
            "RangeIndex: 891 entries, 0 to 890\n",
            "Data columns (total 10 columns):\n",
            " #   Column    Non-Null Count  Dtype  \n",
            "---  ------    --------------  -----  \n",
            " 0   Survived  891 non-null    int64  \n",
            " 1   Age       891 non-null    float64\n",
            " 2   SibSp     891 non-null    int64  \n",
            " 3   Parch     891 non-null    int64  \n",
            " 4   Fare      891 non-null    float64\n",
            " 5   female    891 non-null    uint8  \n",
            " 6   male      891 non-null    uint8  \n",
            " 7   C         891 non-null    uint8  \n",
            " 8   Q         891 non-null    uint8  \n",
            " 9   S         891 non-null    uint8  \n",
            "dtypes: float64(2), int64(3), uint8(5)\n",
            "memory usage: 39.3 KB\n"
          ],
          "name": "stdout"
        }
      ]
    },
    {
      "cell_type": "code",
      "metadata": {
        "colab": {
          "base_uri": "https://localhost:8080/",
          "height": 346
        },
        "id": "PrygvjD5SaGk",
        "outputId": "73ef0627-27e9-41bb-89bb-b4db4e9de05a"
      },
      "source": [
        "corrM = df.corr()\r\n",
        "corrM"
      ],
      "execution_count": null,
      "outputs": [
        {
          "output_type": "execute_result",
          "data": {
            "text/html": [
              "<div>\n",
              "<style scoped>\n",
              "    .dataframe tbody tr th:only-of-type {\n",
              "        vertical-align: middle;\n",
              "    }\n",
              "\n",
              "    .dataframe tbody tr th {\n",
              "        vertical-align: top;\n",
              "    }\n",
              "\n",
              "    .dataframe thead th {\n",
              "        text-align: right;\n",
              "    }\n",
              "</style>\n",
              "<table border=\"1\" class=\"dataframe\">\n",
              "  <thead>\n",
              "    <tr style=\"text-align: right;\">\n",
              "      <th></th>\n",
              "      <th>Survived</th>\n",
              "      <th>Age</th>\n",
              "      <th>SibSp</th>\n",
              "      <th>Parch</th>\n",
              "      <th>Fare</th>\n",
              "      <th>female</th>\n",
              "      <th>male</th>\n",
              "      <th>C</th>\n",
              "      <th>Q</th>\n",
              "      <th>S</th>\n",
              "    </tr>\n",
              "  </thead>\n",
              "  <tbody>\n",
              "    <tr>\n",
              "      <th>Survived</th>\n",
              "      <td>1.000000</td>\n",
              "      <td>-0.062164</td>\n",
              "      <td>-0.035322</td>\n",
              "      <td>0.081629</td>\n",
              "      <td>0.257307</td>\n",
              "      <td>0.543351</td>\n",
              "      <td>-0.543351</td>\n",
              "      <td>0.168240</td>\n",
              "      <td>0.003650</td>\n",
              "      <td>-0.155660</td>\n",
              "    </tr>\n",
              "    <tr>\n",
              "      <th>Age</th>\n",
              "      <td>-0.062164</td>\n",
              "      <td>1.000000</td>\n",
              "      <td>-0.213410</td>\n",
              "      <td>-0.170013</td>\n",
              "      <td>0.087119</td>\n",
              "      <td>-0.061332</td>\n",
              "      <td>0.061332</td>\n",
              "      <td>0.015818</td>\n",
              "      <td>0.019004</td>\n",
              "      <td>-0.033069</td>\n",
              "    </tr>\n",
              "    <tr>\n",
              "      <th>SibSp</th>\n",
              "      <td>-0.035322</td>\n",
              "      <td>-0.213410</td>\n",
              "      <td>1.000000</td>\n",
              "      <td>0.414838</td>\n",
              "      <td>0.159651</td>\n",
              "      <td>0.114631</td>\n",
              "      <td>-0.114631</td>\n",
              "      <td>-0.059528</td>\n",
              "      <td>-0.026354</td>\n",
              "      <td>0.070941</td>\n",
              "    </tr>\n",
              "    <tr>\n",
              "      <th>Parch</th>\n",
              "      <td>0.081629</td>\n",
              "      <td>-0.170013</td>\n",
              "      <td>0.414838</td>\n",
              "      <td>1.000000</td>\n",
              "      <td>0.216225</td>\n",
              "      <td>0.245489</td>\n",
              "      <td>-0.245489</td>\n",
              "      <td>-0.011069</td>\n",
              "      <td>-0.081228</td>\n",
              "      <td>0.063036</td>\n",
              "    </tr>\n",
              "    <tr>\n",
              "      <th>Fare</th>\n",
              "      <td>0.257307</td>\n",
              "      <td>0.087119</td>\n",
              "      <td>0.159651</td>\n",
              "      <td>0.216225</td>\n",
              "      <td>1.000000</td>\n",
              "      <td>0.182333</td>\n",
              "      <td>-0.182333</td>\n",
              "      <td>0.269335</td>\n",
              "      <td>-0.117216</td>\n",
              "      <td>-0.166603</td>\n",
              "    </tr>\n",
              "    <tr>\n",
              "      <th>female</th>\n",
              "      <td>0.543351</td>\n",
              "      <td>-0.061332</td>\n",
              "      <td>0.114631</td>\n",
              "      <td>0.245489</td>\n",
              "      <td>0.182333</td>\n",
              "      <td>1.000000</td>\n",
              "      <td>-1.000000</td>\n",
              "      <td>0.082853</td>\n",
              "      <td>0.074115</td>\n",
              "      <td>-0.125722</td>\n",
              "    </tr>\n",
              "    <tr>\n",
              "      <th>male</th>\n",
              "      <td>-0.543351</td>\n",
              "      <td>0.061332</td>\n",
              "      <td>-0.114631</td>\n",
              "      <td>-0.245489</td>\n",
              "      <td>-0.182333</td>\n",
              "      <td>-1.000000</td>\n",
              "      <td>1.000000</td>\n",
              "      <td>-0.082853</td>\n",
              "      <td>-0.074115</td>\n",
              "      <td>0.125722</td>\n",
              "    </tr>\n",
              "    <tr>\n",
              "      <th>C</th>\n",
              "      <td>0.168240</td>\n",
              "      <td>0.015818</td>\n",
              "      <td>-0.059528</td>\n",
              "      <td>-0.011069</td>\n",
              "      <td>0.269335</td>\n",
              "      <td>0.082853</td>\n",
              "      <td>-0.082853</td>\n",
              "      <td>1.000000</td>\n",
              "      <td>-0.148258</td>\n",
              "      <td>-0.778359</td>\n",
              "    </tr>\n",
              "    <tr>\n",
              "      <th>Q</th>\n",
              "      <td>0.003650</td>\n",
              "      <td>0.019004</td>\n",
              "      <td>-0.026354</td>\n",
              "      <td>-0.081228</td>\n",
              "      <td>-0.117216</td>\n",
              "      <td>0.074115</td>\n",
              "      <td>-0.074115</td>\n",
              "      <td>-0.148258</td>\n",
              "      <td>1.000000</td>\n",
              "      <td>-0.496624</td>\n",
              "    </tr>\n",
              "    <tr>\n",
              "      <th>S</th>\n",
              "      <td>-0.155660</td>\n",
              "      <td>-0.033069</td>\n",
              "      <td>0.070941</td>\n",
              "      <td>0.063036</td>\n",
              "      <td>-0.166603</td>\n",
              "      <td>-0.125722</td>\n",
              "      <td>0.125722</td>\n",
              "      <td>-0.778359</td>\n",
              "      <td>-0.496624</td>\n",
              "      <td>1.000000</td>\n",
              "    </tr>\n",
              "  </tbody>\n",
              "</table>\n",
              "</div>"
            ],
            "text/plain": [
              "          Survived       Age     SibSp  ...         C         Q         S\n",
              "Survived  1.000000 -0.062164 -0.035322  ...  0.168240  0.003650 -0.155660\n",
              "Age      -0.062164  1.000000 -0.213410  ...  0.015818  0.019004 -0.033069\n",
              "SibSp    -0.035322 -0.213410  1.000000  ... -0.059528 -0.026354  0.070941\n",
              "Parch     0.081629 -0.170013  0.414838  ... -0.011069 -0.081228  0.063036\n",
              "Fare      0.257307  0.087119  0.159651  ...  0.269335 -0.117216 -0.166603\n",
              "female    0.543351 -0.061332  0.114631  ...  0.082853  0.074115 -0.125722\n",
              "male     -0.543351  0.061332 -0.114631  ... -0.082853 -0.074115  0.125722\n",
              "C         0.168240  0.015818 -0.059528  ...  1.000000 -0.148258 -0.778359\n",
              "Q         0.003650  0.019004 -0.026354  ... -0.148258  1.000000 -0.496624\n",
              "S        -0.155660 -0.033069  0.070941  ... -0.778359 -0.496624  1.000000\n",
              "\n",
              "[10 rows x 10 columns]"
            ]
          },
          "metadata": {
            "tags": []
          },
          "execution_count": 28
        }
      ]
    },
    {
      "cell_type": "code",
      "metadata": {
        "id": "FPT09wZiokOU"
      },
      "source": [
        "\"\"\"Converting data frames to numpy  \"\"\"\r\n",
        "\r\n",
        "X = df.values\r\n",
        "y = df['Survived'].values\r\n",
        "\r\n",
        "## Removing the column of the target variable \r\n",
        "\r\n",
        "X = np.delete(X, 1, axis=1)\r\n",
        "\r\n"
      ],
      "execution_count": null,
      "outputs": []
    },
    {
      "cell_type": "code",
      "metadata": {
        "id": "rA3779rSTEKS"
      },
      "source": [
        "\"\"\"Using Train test split to divide the data \"\"\"\r\n",
        "\r\n",
        "X_train, X_test, y_train, y_test = train_test_split(X, y, test_size=0.3, random_state=0)"
      ],
      "execution_count": null,
      "outputs": []
    },
    {
      "cell_type": "code",
      "metadata": {
        "colab": {
          "base_uri": "https://localhost:8080/"
        },
        "id": "-FMf0h6QqKcx",
        "outputId": "7ee9f5a0-0a2a-47d5-ef03-d6db31dab52f"
      },
      "source": [
        "print(np.shape(X_train))\r\n",
        "print(np.shape(X_test))\r\n",
        "print(np.shape(y_train))\r\n",
        "print(np.shape(y_test))\r\n",
        "print(y_train.ndim)\r\n",
        "\r\n",
        "#if y_train.ndim==1:\r\n",
        "#  print(True)"
      ],
      "execution_count": null,
      "outputs": [
        {
          "output_type": "stream",
          "text": [
            "(623, 9)\n",
            "(268, 9)\n",
            "(623,)\n",
            "(268,)\n",
            "1\n"
          ],
          "name": "stdout"
        }
      ]
    },
    {
      "cell_type": "markdown",
      "metadata": {
        "id": "9_xorII0qb4s"
      },
      "source": [
        "## Using the Logistic regression algorithm developed in the question2 "
      ]
    },
    {
      "cell_type": "code",
      "metadata": {
        "id": "aHPUESj5dTJ6"
      },
      "source": [
        "\"\"\" Reference :https://towardsdatascience.com/logistic-regression-from-scratch-69db4f587e17\r\n",
        "    some of the code is referred from the above website \"\"\"\r\n",
        "\r\n",
        "class LogReg:\r\n",
        "  \"\"\" ovr stands for one vs all or one vs rest and ovo stands for one vs one \"\"\"\r\n",
        "  def __init__(self,learning_rate=0.1,iterations=3000,epochs=20,classify=0,mode=\"ovr\",class1=0,class2=1):\r\n",
        "\r\n",
        "    self.theta=None\r\n",
        "    self.learning_rate=learning_rate\r\n",
        "    self.iterations=iterations\r\n",
        "    self.classify=classify \r\n",
        "    self.mode=mode\r\n",
        "    self.epochs=epochs\r\n",
        "    self.class1=class1\r\n",
        "    self.class2=class2\r\n",
        "    self.theta_classes=[]\r\n",
        "\r\n",
        "\r\n",
        "  def sigmoid(self,z):\r\n",
        "    return 1 / (1 + e**(-z))\r\n",
        "\r\n",
        "  def cost_func(self,X,y,theta):\r\n",
        "    \"\"\" computing likelihood cost \"\"\"\r\n",
        "    X=X.T\r\n",
        "    z=np.dot(theta,X)\r\n",
        "\r\n",
        "    pred_1=y*log(self.sigmoid(z))\r\n",
        "    pred_0=(1-y)*log(1-self.sigmoid(z))\r\n",
        "\r\n",
        "    return -sum(pred_1+pred_0)/len(X_train)\r\n",
        "\r\n",
        "  def initialise_theta(self,X):\r\n",
        "    theta=np.random.rand(1,X.shape[0])\r\n",
        "    self.theta=theta.reshape(1,X.shape[0])\r\n",
        "    for i in range(2):\r\n",
        "      theta=np.random.rand(1,X.shape[0])\r\n",
        "      self.theta_classes.append(theta.reshape(1,X.shape[0]))\r\n",
        "    self.theta_classes=np.array(self.theta_classes)\r\n",
        "    #print(\"inside: \",self.theta_classes )\r\n",
        "    \r\n",
        "\r\n",
        "  def fit(self,X,Y):\r\n",
        "\r\n",
        "    y=[]\r\n",
        "    X=X.T\r\n",
        "    self.initialise_theta(X)\r\n",
        "    if self.mode==\"ovr\":\r\n",
        "\r\n",
        "      if np.array(Y).ndim==1:\r\n",
        "          Y=np.array(Y).reshape(np.array(Y).shape[0],1)\r\n",
        "      y=[[1 if y[int(self.classify)]==1 else 0 for y in Y ]]\r\n",
        "      y=np.transpose(np.array(y))\r\n",
        "      for i in range(self.iterations):\r\n",
        "      \r\n",
        "        y_pred=self.sigmoid(np.dot(self.theta,X))\r\n",
        "        y_pred=np.transpose(np.array(y_pred))\r\n",
        "      \r\n",
        "        temp=np.dot(X,(y-y_pred)).T\r\n",
        "        self.theta+=(self.learning_rate*temp)/(X.shape[0])\r\n",
        "    if self.mode==\"ovo\":\r\n",
        "      list_classes=[self.class1,self.class2]\r\n",
        "      best_theta=self.theta\r\n",
        "      for s,cls in enumerate(list_classes):\r\n",
        "        if np.array(Y).ndim==1:\r\n",
        "          Y=np.array(Y).reshape(np.array(Y).shape[0],1)\r\n",
        "        y=[[1 if y[int(cls)]==1 else 0 for y in Y ]]\r\n",
        "        y=np.transpose(np.array(y))\r\n",
        "      ## here is a trouble that we need to perform each class individually and return two y_preds     \r\n",
        "        #for j in range(self.epochs):\r\n",
        "        for i in range(self.iterations):\r\n",
        "          \r\n",
        "          y_pred=self.sigmoid(np.dot(self.theta_classes[s],X))\r\n",
        "          y_pred=np.transpose(np.array(y_pred))\r\n",
        "        \r\n",
        "          temp=np.dot(X,(y-y_pred)).T\r\n",
        "          #print(\"inside loop:\",self.theta_classes )\r\n",
        "          self.theta_classes[s]+=(self.learning_rate*temp)/(X.shape[0])\r\n",
        "      \r\n",
        "\r\n",
        "  def predict(self, X):\r\n",
        "\r\n",
        "    #X=X.T\r\n",
        "    if self.mode==\"ovr\":\r\n",
        "      w=self.theta\r\n",
        "      y_pred = np.round(self.sigmoid(np.dot(X,w.T))).astype(int)\r\n",
        "      return y_pred\r\n",
        "    if self.mode==\"ovo\" or not (self.class1==0 and self.class2==0):\r\n",
        "      #print(\"I entered here\")\r\n",
        "      y_pred=[None]*2\r\n",
        "      for i in range(2):\r\n",
        "        w=self.theta_classes[i]\r\n",
        "        y_pred[i]=np.round(self.sigmoid(np.dot(X,w.T))).astype(int)\r\n",
        "      return y_pred\r\n",
        "\r\n"
      ],
      "execution_count": null,
      "outputs": []
    },
    {
      "cell_type": "code",
      "metadata": {
        "id": "PgutJS2oFCWe"
      },
      "source": [
        "\r\n",
        "max_score=0\r\n",
        "k=0\r\n",
        "lg=LogReg(classify=k,mode=\"ovr\")\r\n",
        "lg.fit(X_train,y_train)\r\n",
        "\r\n",
        "\r\n",
        "y_pred=lg.predict(X_test)\r\n",
        "\r\n"
      ],
      "execution_count": null,
      "outputs": []
    },
    {
      "cell_type": "code",
      "metadata": {
        "colab": {
          "base_uri": "https://localhost:8080/"
        },
        "id": "J8FvTIWIuKj1",
        "outputId": "16017156-0f42-4cef-e817-4aa14589bdd3"
      },
      "source": [
        "print(np.shape(y_pred))\r\n",
        "test=y_test.reshape(y_pred.shape[0],1)\r\n",
        "print(np.shape(y_test))"
      ],
      "execution_count": null,
      "outputs": [
        {
          "output_type": "stream",
          "text": [
            "(268, 1)\n",
            "(268,)\n"
          ],
          "name": "stdout"
        }
      ]
    },
    {
      "cell_type": "code",
      "metadata": {
        "colab": {
          "base_uri": "https://localhost:8080/",
          "height": 349
        },
        "id": "Naf5v5zItTUv",
        "outputId": "fbd0af2a-bc92-4cca-96ed-a7c3b77b5abd"
      },
      "source": [
        "score=0\r\n",
        "for i,j in zip(test,y_pred):\r\n",
        "  if i==j:\r\n",
        "    score+=1\r\n",
        "print(\"Accuracy for class {} = {} % \".format(k,100*score/len(test)))\r\n",
        "cf_matrix = confusion_matrix(test, y_pred)\r\n",
        "\r\n",
        "#sns.heatmap(cf_matrix/np.sum(cf_matrix), annot=True, fmt='.2%', cmap='Blues')\r\n",
        "print(\"##################Confusion matrix#################\")\r\n",
        "print(cf_matrix)  \r\n",
        "#sns.heatmap(cf_matrix, annot=True)\r\n",
        "\r\n",
        "\r\n",
        "accuracies=100*score/len(test)\r\n",
        "\r\n",
        "#cf_matrix=final_cf_matrix\r\n",
        "sns.heatmap(cf_matrix/np.sum(cf_matrix), annot=True, fmt='.2%', cmap='Blues')\r\n",
        "\r\n",
        "accuracies=np.array(accuracies)\r\n",
        "print(\"Mean accuracy of the model is {} \".format(np.mean(accuracies)))"
      ],
      "execution_count": null,
      "outputs": [
        {
          "output_type": "stream",
          "text": [
            "Accuracy for class 0 = 88.80597014925372 % \n",
            "##################Confusion matrix#################\n",
            "[[140  28]\n",
            " [  2  98]]\n",
            "Mean accuracy of the model is 88.80597014925372 \n"
          ],
          "name": "stdout"
        },
        {
          "output_type": "display_data",
          "data": {
            "image/png": "[encoded data removed]",
            "text/plain": [
              "<Figure size 432x288 with 2 Axes>"
            ]
          },
          "metadata": {
            "tags": [],
            "needs_background": "light"
          }
        }
      ]
    },
    {
      "cell_type": "code",
      "metadata": {
        "colab": {
          "base_uri": "https://localhost:8080/"
        },
        "id": "ZpWfEMaI72Zb",
        "outputId": "52bc8a36-7a87-449e-97a1-0ab311bbfcd4"
      },
      "source": [
        "y_pred=y_pred.reshape(y_pred.shape[0])\r\n",
        "target_names = ['Not Survived', 'Survive']\r\n",
        "print(classification_report(y_test, y_pred, target_names=target_names))"
      ],
      "execution_count": null,
      "outputs": [
        {
          "output_type": "stream",
          "text": [
            "              precision    recall  f1-score   support\n",
            "\n",
            "Not Survived       0.99      0.83      0.90       168\n",
            "     Survive       0.78      0.98      0.87       100\n",
            "\n",
            "    accuracy                           0.89       268\n",
            "   macro avg       0.88      0.91      0.89       268\n",
            "weighted avg       0.91      0.89      0.89       268\n",
            "\n"
          ],
          "name": "stdout"
        }
      ]
    },
    {
      "cell_type": "code",
      "metadata": {
        "id": "0oTUgXmB5r4b"
      },
      "source": [
        "logisticRegr = LogisticRegression(multi_class=\"auto\")"
      ],
      "execution_count": null,
      "outputs": []
    },
    {
      "cell_type": "code",
      "metadata": {
        "colab": {
          "base_uri": "https://localhost:8080/"
        },
        "id": "lnsNVZ1E6FBZ",
        "outputId": "560866db-ce50-4f90-8cb6-a43254a48403"
      },
      "source": [
        "logisticRegr.fit(X_train, y_train)"
      ],
      "execution_count": null,
      "outputs": [
        {
          "output_type": "execute_result",
          "data": {
            "text/plain": [
              "LogisticRegression(C=1.0, class_weight=None, dual=False, fit_intercept=True,\n",
              "                   intercept_scaling=1, l1_ratio=None, max_iter=100,\n",
              "                   multi_class='auto', n_jobs=None, penalty='l2',\n",
              "                   random_state=None, solver='lbfgs', tol=0.0001, verbose=0,\n",
              "                   warm_start=False)"
            ]
          },
          "metadata": {
            "tags": []
          },
          "execution_count": 38
        }
      ]
    },
    {
      "cell_type": "code",
      "metadata": {
        "id": "EvTF1SFV6Khw"
      },
      "source": [
        "predictions = logisticRegr.predict(X_test)"
      ],
      "execution_count": null,
      "outputs": []
    },
    {
      "cell_type": "code",
      "metadata": {
        "colab": {
          "base_uri": "https://localhost:8080/"
        },
        "id": "fnFgZAdA6NYG",
        "outputId": "9198649a-8986-49a7-fe59-193ec9cae766"
      },
      "source": [
        "score = logisticRegr.score(X_test, y_test)\r\n",
        "print(score)"
      ],
      "execution_count": null,
      "outputs": [
        {
          "output_type": "stream",
          "text": [
            "1.0\n"
          ],
          "name": "stdout"
        }
      ]
    },
    {
      "cell_type": "code",
      "metadata": {
        "colab": {
          "base_uri": "https://localhost:8080/",
          "height": 413
        },
        "id": "bq0_F4Uz6Set",
        "outputId": "f3b40dc2-9995-4468-890d-b312c5b90255"
      },
      "source": [
        "cm = metrics.confusion_matrix(y_test, predictions)\r\n",
        "print(\"#############confusion matrix#############\")\r\n",
        "print(cm)\r\n",
        "plt.figure(figsize=(6,6))\r\n",
        "sns.heatmap(cm, annot=True, fmt=\".3f\", linewidths=.5, square = True, cmap = 'Blues_r');\r\n",
        "plt.ylabel('Actual label');\r\n",
        "plt.xlabel('Predicted label');\r\n",
        "all_sample_title = 'Accuracy Score: {0}'.format(score)\r\n",
        "plt.title(all_sample_title, size = 10);"
      ],
      "execution_count": null,
      "outputs": [
        {
          "output_type": "stream",
          "text": [
            "#############confusion matrix#############\n",
            "[[168   0]\n",
            " [  0 100]]\n"
          ],
          "name": "stdout"
        },
        {
          "output_type": "display_data",
          "data": {
            "image/png": "[encoded data removed]",
            "text/plain": [
              "<Figure size 432x432 with 2 Axes>"
            ]
          },
          "metadata": {
            "tags": [],
            "needs_background": "light"
          }
        }
      ]
    },
    {
      "cell_type": "code",
      "metadata": {
        "colab": {
          "base_uri": "https://localhost:8080/"
        },
        "id": "Uql68BaX8NMV",
        "outputId": "22dc54b6-a1aa-4a83-e1e2-8d4dedec8940"
      },
      "source": [
        "target_names = ['Not Survived', 'Survived']\r\n",
        "print(classification_report(y_test, predictions, target_names=target_names))"
      ],
      "execution_count": null,
      "outputs": [
        {
          "output_type": "stream",
          "text": [
            "              precision    recall  f1-score   support\n",
            "\n",
            "Not Survived       1.00      1.00      1.00       168\n",
            "    Survived       1.00      1.00      1.00       100\n",
            "\n",
            "    accuracy                           1.00       268\n",
            "   macro avg       1.00      1.00      1.00       268\n",
            "weighted avg       1.00      1.00      1.00       268\n",
            "\n"
          ],
          "name": "stdout"
        }
      ]
    },
    {
      "cell_type": "markdown",
      "metadata": {
        "id": "ArrJDsAc4cH_"
      },
      "source": [
        "## Observations:\n",
        "From the above two implementations we can see that both the models have high accuracy because of the all the data cleaning and preprocessing that we did in the above steps "
      ]
    }
  ]
}